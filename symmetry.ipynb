{
 "cells": [
  {
   "cell_type": "code",
   "execution_count": 2,
   "outputs": [],
   "source": [
    "import Quant_NBody\n",
    "import numpy as np\n",
    "from datetime import datetime"
   ],
   "metadata": {
    "collapsed": false,
    "pycharm": {
     "name": "#%%\n"
    }
   }
  },
  {
   "cell_type": "markdown",
   "metadata": {
    "collapsed": true,
    "pycharm": {
     "name": "#%% md\n"
    }
   },
   "source": [
    "# Optimization of for loops in calculation of d\n",
    "I implemented equations 2.7.11 from the Pink bible"
   ]
  },
  {
   "cell_type": "code",
   "execution_count": 67,
   "outputs": [],
   "source": [
    "n_mo = 5"
   ],
   "metadata": {
    "collapsed": false,
    "pycharm": {
     "name": "#%%\n"
    }
   }
  },
  {
   "cell_type": "code",
   "execution_count": 75,
   "outputs": [
    {
     "name": "stdout",
     "output_type": "stream",
     "text": [
      "(0, 0, 1, 0) (0, 0, 0, 1, '3')\n",
      "(0, 0, 2, 0) (0, 0, 0, 2, '3')\n",
      "(0, 0, 2, 1) (0, 0, 1, 2, '3')\n",
      "(0, 0, 3, 0) (0, 0, 0, 3, '3')\n",
      "(0, 0, 3, 1) (0, 0, 1, 3, '3')\n",
      "(0, 0, 3, 2) (0, 0, 2, 3, '3')\n",
      "(0, 0, 4, 0) (0, 0, 0, 4, '3')\n",
      "(0, 0, 4, 1) (0, 0, 1, 4, '3')\n",
      "(0, 0, 4, 2) (0, 0, 2, 4, '3')\n",
      "(0, 0, 4, 3) (0, 0, 3, 4, '3')\n",
      "(0, 1, 0, 0) (0, 0, 1, 0, '4')\n",
      "(0, 2, 0, 0) (0, 0, 2, 0, '4')\n",
      "(0, 2, 0, 1) (0, 1, 0, 2, '2')\n",
      "(0, 2, 1, 0) (0, 1, 2, 0, '4')\n",
      "(0, 3, 0, 0) (0, 0, 3, 0, '4')\n",
      "(0, 3, 0, 1) (0, 1, 0, 3, '2')\n",
      "(0, 3, 0, 2) (0, 2, 0, 3, '2')\n",
      "(0, 3, 1, 0) (0, 1, 3, 0, '4')\n",
      "(0, 3, 2, 0) (0, 2, 3, 0, '4')\n",
      "(0, 4, 0, 0) (0, 0, 4, 0, '4')\n",
      "(0, 4, 0, 1) (0, 1, 0, 4, '2')\n",
      "(0, 4, 0, 2) (0, 2, 0, 4, '2')\n",
      "(0, 4, 0, 3) (0, 3, 0, 4, '2')\n",
      "(0, 4, 1, 0) (0, 1, 4, 0, '4')\n",
      "(0, 4, 2, 0) (0, 2, 4, 0, '4')\n",
      "(0, 4, 3, 0) (0, 3, 4, 0, '4')\n",
      "(1, 1, 2, 1) (1, 1, 1, 2, '3')\n",
      "(1, 1, 3, 1) (1, 1, 1, 3, '3')\n",
      "(1, 1, 3, 2) (1, 1, 2, 3, '3')\n",
      "(1, 1, 4, 1) (1, 1, 1, 4, '3')\n",
      "(1, 1, 4, 2) (1, 1, 2, 4, '3')\n",
      "(1, 1, 4, 3) (1, 1, 3, 4, '3')\n",
      "(1, 2, 1, 1) (1, 1, 2, 1, '4')\n",
      "(1, 3, 1, 1) (1, 1, 3, 1, '4')\n",
      "(1, 3, 1, 2) (1, 2, 1, 3, '2')\n",
      "(1, 3, 2, 1) (1, 2, 3, 1, '4')\n",
      "(1, 4, 1, 1) (1, 1, 4, 1, '4')\n",
      "(1, 4, 1, 2) (1, 2, 1, 4, '2')\n",
      "(1, 4, 1, 3) (1, 3, 1, 4, '2')\n",
      "(1, 4, 2, 1) (1, 2, 4, 1, '4')\n",
      "(1, 4, 3, 1) (1, 3, 4, 1, '4')\n",
      "(2, 2, 3, 2) (2, 2, 2, 3, '3')\n",
      "(2, 2, 4, 2) (2, 2, 2, 4, '3')\n",
      "(2, 2, 4, 3) (2, 2, 3, 4, '3')\n",
      "(2, 3, 2, 2) (2, 2, 3, 2, '4')\n",
      "(2, 4, 2, 2) (2, 2, 4, 2, '4')\n",
      "(2, 4, 2, 3) (2, 3, 2, 4, '2')\n",
      "(2, 4, 3, 2) (2, 3, 4, 2, '4')\n",
      "(3, 3, 4, 3) (3, 3, 3, 4, '3')\n",
      "(3, 4, 3, 3) (3, 3, 4, 3, '4')\n",
      "out of 625 there was 50 duplicates (did 225 loops)\n"
     ]
    }
   ],
   "source": [
    "set_already = dict()\n",
    "for p in range(n_mo):\n",
    "\tfor q in range(n_mo):\n",
    "\t\tfor r in range(n_mo):\n",
    "\t\t\tfor s in range(n_mo):\n",
    "\t\t\t\tset_already[(p,q,r,s)] = False\n",
    "count_duplicates = 0\n",
    "count_loops = 0\n",
    "for p in range(n_mo):\n",
    "\tfor q in range(p, n_mo):\n",
    "\t\tfor r in range(p, n_mo):\n",
    "\t\t\tfor s in range(p, n_mo):\n",
    "\t\t\t\tcount_loops += 1\n",
    "\t\t\t\tif (p,q,r,s) in set_already:\n",
    "\t\t\t\t\tif set_already[(p,q,r,s)] != False:\n",
    "\t\t\t\t\t\tprint((p,q,r,s), set_already[(p,q,r,s)])\n",
    "\t\t\t\t\t\tcount_duplicates += 1\n",
    "\t\t\t\tset_already[(p,q,r,s)] = (p,q,r,s, 'self')\n",
    "\t\t\t\tset_already[(r,s,p,q)] = (p,q,r,s, '2')\n",
    "\t\t\t\tset_already[(q,p,s,r)] = (p,q,r,s, '3')\n",
    "\t\t\t\tset_already[(s,r,q,p)] = (p,q,r,s, '4')\n",
    "print(f'out of {len(set_already)} there was {count_duplicates} duplicates (did {count_loops} loops)')\n",
    "a = list(set_already.keys())\n",
    "a.sort()\n",
    "for key in a:\n",
    "\tif not set_already[key]:\n",
    "\t\tprint(key, '!!!!!!')\n",
    "\t# print(*key, set_already[key])"
   ],
   "metadata": {
    "collapsed": false,
    "pycharm": {
     "name": "#%%\n"
    }
   }
  },
  {
   "cell_type": "code",
   "execution_count": 61,
   "outputs": [
    {
     "name": "stdout",
     "output_type": "stream",
     "text": [
      "."
     ]
    }
   ],
   "source": [
    "n_mo = 50\n",
    "for p in range(n_mo):\n",
    "\tfor q in range(p, n_mo):\n",
    "\t\tfor r in range(p, n_mo):\n",
    "\t\t\tfor s in range(n_mo):\n",
    "\t\t\t\tif p + q + r + s % 113 == 0:\n",
    "\t\t\t\t\tprint('.', end='')"
   ],
   "metadata": {
    "collapsed": false,
    "pycharm": {
     "name": "#%%\n"
    }
   }
  },
  {
   "cell_type": "code",
   "execution_count": 16,
   "outputs": [],
   "source": [
    "for key in keys:\n",
    "    if key not in keys2:\n",
    "        print(key)"
   ],
   "metadata": {
    "collapsed": false,
    "pycharm": {
     "name": "#%%\n"
    }
   }
  },
  {
   "cell_type": "code",
   "execution_count": 17,
   "outputs": [
    {
     "data": {
      "text/plain": "True"
     },
     "execution_count": 17,
     "metadata": {},
     "output_type": "execute_result"
    }
   ],
   "source": [
    "keys2 == keys"
   ],
   "metadata": {
    "collapsed": false,
    "pycharm": {
     "name": "#%%\n"
    }
   }
  },
  {
   "cell_type": "markdown",
   "source": [
    "# Test if implementation really works"
   ],
   "metadata": {
    "collapsed": false,
    "pycharm": {
     "name": "#%% md\n"
    }
   }
  },
  {
   "cell_type": "code",
   "execution_count": 24,
   "outputs": [],
   "source": [
    "N_MO   = N_elec = 5\n",
    "\n",
    "t_  = np.zeros((N_MO,N_MO))\n",
    "U_  = np.zeros((N_MO,N_MO,N_MO,N_MO))\n",
    "Mu_ = np.zeros((N_MO,N_MO))\n",
    "for i in range(N_MO):\n",
    "    U_[i,i,i,i]  =  2 * np.random.rand()  # Local coulombic repulsion\n",
    "    Mu_[i,i]     = np.random.rand()  # Local chemical potential\n",
    "\n",
    "    for j in range(i+1,N_MO):\n",
    "        t_[i,j] = t_[j,i] = - np.random.rand()  # hopping\n",
    "\n",
    "h_ = t_  + np.diag( np.diag(Mu_) ) # Global one-body matrix = hoppings + chemical potentials\n",
    "nbody_basis = Quant_NBody.build_nbody_basis( N_MO, N_elec ) # <=== FCT IN THE PACKAGE\n",
    "a_dagger_a = Quant_NBody.build_operator_a_dagger_a(nbody_basis, True)\n",
    "H = Quant_NBody.build_hamiltonian_quantum_chemistry(h_, U_,  nbody_basis, a_dagger_a )\n",
    "H_fast = Quant_NBody.build_hamiltonian_quantum_chemistry_fast(h_, U_,  nbody_basis, a_dagger_a )"
   ],
   "metadata": {
    "collapsed": false,
    "pycharm": {
     "name": "#%%\n"
    }
   }
  },
  {
   "cell_type": "code",
   "execution_count": 29,
   "outputs": [
    {
     "data": {
      "text/plain": "True"
     },
     "execution_count": 29,
     "metadata": {},
     "output_type": "execute_result"
    }
   ],
   "source": [
    "np.alltrue(H.A == H_fast.A)"
   ],
   "metadata": {
    "collapsed": false,
    "pycharm": {
     "name": "#%%\n"
    }
   }
  },
  {
   "cell_type": "code",
   "execution_count": 33,
   "outputs": [
    {
     "name": "stdout",
     "output_type": "stream",
     "text": [
      "For 30 executions it needed: 0:00:18.813439; 0:00:00.627115 per cycle\n"
     ]
    }
   ],
   "source": [
    "# Normal\n",
    "n = 30\n",
    "t_start_slow = datetime.now()\n",
    "for i in range(n):\n",
    "\tH = Quant_NBody.build_hamiltonian_quantum_chemistry(h_, U_,  nbody_basis, a_dagger_a )\n",
    "t_end_slow = datetime.now()\n",
    "print(f'For {n} executions it needed: {t_end_slow-t_start_slow}; {(t_end_slow-t_start_slow)/n} per cycle')"
   ],
   "metadata": {
    "collapsed": false,
    "pycharm": {
     "name": "#%%\n"
    }
   }
  },
  {
   "cell_type": "code",
   "execution_count": 34,
   "outputs": [
    {
     "name": "stdout",
     "output_type": "stream",
     "text": [
      "For 30 executions it needed: 0:00:14.172735; 0:00:00.627115 per cycle\n"
     ]
    }
   ],
   "source": [
    "# Fast\n",
    "n = 30\n",
    "t_start_fast = datetime.now()\n",
    "for i in range(n):\n",
    "\tH_fast = Quant_NBody.build_hamiltonian_quantum_chemistry_fast(h_, U_,  nbody_basis, a_dagger_a )\n",
    "t_end_fast = datetime.now()\n",
    "print(f'For {n} executions it needed: {t_end_fast-t_start_fast}; {(t_end_slow-t_start_slow)/n} per cycle')"
   ],
   "metadata": {
    "collapsed": false,
    "pycharm": {
     "name": "#%%\n"
    }
   }
  },
  {
   "cell_type": "code",
   "execution_count": 35,
   "outputs": [
    {
     "data": {
      "text/plain": "True"
     },
     "execution_count": 35,
     "metadata": {},
     "output_type": "execute_result"
    }
   ],
   "source": [
    "np.alltrue(H.A == H_fast.A)"
   ],
   "metadata": {
    "collapsed": false,
    "pycharm": {
     "name": "#%%\n"
    }
   }
  },
  {
   "cell_type": "markdown",
   "source": [
    "A bit disappointing but that could also be because there are 2 nested for loops and I optimized only one\n",
    "\n"
   ],
   "metadata": {
    "collapsed": false,
    "pycharm": {
     "name": "#%% md\n"
    }
   }
  }
 ],
 "metadata": {
  "kernelspec": {
   "name": "pycharm-3827718c",
   "language": "python",
   "display_name": "PyCharm (Single_shot)"
  },
  "language_info": {
   "codemirror_mode": {
    "name": "ipython",
    "version": 2
   },
   "file_extension": ".py",
   "mimetype": "text/x-python",
   "name": "python",
   "nbconvert_exporter": "python",
   "pygments_lexer": "ipython2",
   "version": "2.7.6"
  }
 },
 "nbformat": 4,
 "nbformat_minor": 0
}