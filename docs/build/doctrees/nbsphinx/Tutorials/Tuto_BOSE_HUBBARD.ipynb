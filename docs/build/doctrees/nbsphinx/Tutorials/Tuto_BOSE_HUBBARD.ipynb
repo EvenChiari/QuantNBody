{
 "cells": [
  {
   "cell_type": "markdown",
   "id": "42388d35",
   "metadata": {},
   "source": [
    "# Bose-Hubbard system \n",
    "\n",
    "**Dr. Saad Yalouz - Laboratoire de Chimie Quantique de Strasbourg, France - July 2022**\n",
    "\n",
    "## Introduction : the Bose-Hubbard system\n",
    "\n",
    "The Bose-Hubbard Hamiltonian is defined in the site basis as follows\n",
    "$$ H = \\sum_{i,j} h_{ij} a^\\dagger_i a_j + \\sum_{i} U_{iiii}  a^\\dagger_i a^\\dagger_i a_i a_i ,$$ \n",
    "where $h$ and $U$ are the two- and four-indices integrals associated respectively to the single-body and the two-body part of the full Hamiltonian. \n",
    "\n",
    "In an extended basis (i.e. in a basis of non-local modes), the same Hamiltonian takes the most general form \n",
    "$$ H = \\sum_{p,q} h_{pq} a^\\dagger_p a_q + \\sum_{p,q,r,s} U_{pqrs}  a^\\dagger_p a^\\dagger_q a_r a_s, $$\n",
    "where the single-body integrals have been transformed (thanks to a transfer matrix $C$) into an extended basis such that\n",
    "$$ h_{pq} = \\sum_{i,j} C_{ip} C_{jq} h_{ij}, $$\n",
    "and similarily for  the two-body integrals \n",
    "$$ U_{pqrs} = \\sum_{i,j} C_{ip} C_{iq} C_{ir} C_{is} U_{iiii}. $$\n",
    "\n",
    "\n",
    "In this more general context, the energy of a given reference many-body state $| \\Psi \\rangle $ is defined as follows\n",
    "$$ E_{ |\\Psi \\rangle} = \\sum_{p,q} h_{pq} \\gamma_{pq} + \\sum_{p,q,r,s} U_{pqrs} \\Gamma_{pqrs}, $$ \n",
    "where $\\gamma$ represents the so-called 1-RDM whose elements are defined like \n",
    "$$ \\gamma_{pq} = \\langle \\Psi | a^\\dagger_p a_q  | \\Psi \\rangle , $$\n",
    "and $\\Gamma$ the 2-RDM with the elements\n",
    "$$ \\Gamma_{pqrs} = \\langle \\Psi | a^\\dagger_p a^\\dagger_q a_r a_s | \\Psi \\rangle $$\n",
    "We show below how to build all these objects with QuantNBody :-)"
   ]
  },
  {
   "cell_type": "markdown",
   "id": "98a8d2d2",
   "metadata": {},
   "source": [
    "## Importing the required libraries"
   ]
  },
  {
   "cell_type": "code",
   "execution_count": 1,
   "id": "2f73043c",
   "metadata": {},
   "outputs": [],
   "source": [
    "import quantnbody as qnb \n",
    "import scipy  \n",
    "import numpy as np"
   ]
  },
  {
   "cell_type": "markdown",
   "id": "c40cecdf",
   "metadata": {},
   "source": [
    "## Defining the basic properties of the system"
   ]
  },
  {
   "cell_type": "code",
   "execution_count": 2,
   "id": "69c9fa12",
   "metadata": {},
   "outputs": [],
   "source": [
    "n_mode  = 5 # Number of modes\n",
    "n_boson = 5 # Number of bosons\n",
    "\n",
    "# Building the one-body tensor in a general extended basis\n",
    "h_tensor = np.zeros(( n_mode, n_mode )) \n",
    "for site in range(n_mode): \n",
    "    for site_ in range(n_mode):\n",
    "        if (site != site_): \n",
    "            h_tensor[site,site_] = h_tensor[site_,site] = -1 # <== a lattice fully connected with a same hopping term\n",
    "            \n",
    "# Building the two-body tensor in a general extended basis\n",
    "U_tensor  = np.zeros(( n_mode, n_mode, n_mode, n_mode )) \n",
    "for site in range(n_mode):\n",
    "    U_tensor[ site, site, site, site ]  = - 10.1 # <=== Local on-site attraction of the bosons\n",
    "    \n",
    "# # Uncomment below in case we want to switch to an extended basis\n",
    "# eig_h, C = scipy.linalg.eigh( h_tensor ) # <== Extended basis simply given by the eigenmode of h_tensor\n",
    "# h_tensor, U_tensor = qnb.bosonic.tools.transform_1_2_body_tensors_in_new_basis(h_tensor, U_tensor, C)"
   ]
  },
  {
   "cell_type": "markdown",
   "id": "af51f224",
   "metadata": {},
   "source": [
    "## Building the essential tools for the QuantNBody package "
   ]
  },
  {
   "cell_type": "code",
   "execution_count": 3,
   "id": "446a6326",
   "metadata": {},
   "outputs": [],
   "source": [
    "# Building the many-body basis\n",
    "nbodybasis = qnb.bosonic.tools.build_nbody_basis( n_mode, n_boson )   \n",
    "\n",
    "# Building the a†a operators\n",
    "a_dagger_a = qnb.bosonic.tools.build_operator_a_dagger_a( nbodybasis )  "
   ]
  },
  {
   "cell_type": "markdown",
   "id": "c1972ed1",
   "metadata": {},
   "source": [
    "## All-in-one function\n",
    "We define below an \"all-in-one\" function that returns : \n",
    "- Bose-Hubbard Hamiltonian,\n",
    "- Groundstate FCI energy\n",
    "- Groundstate wavefunction\n",
    "- Groundstate 1- and 2-RDMs."
   ]
  },
  {
   "cell_type": "code",
   "execution_count": 4,
   "id": "f145d555",
   "metadata": {},
   "outputs": [],
   "source": [
    "def Bose_hubbard_all_in_one( h_tensor, U_tensor, nbodybasis, a_dagger_a ): \n",
    "    \n",
    "    # Building the matrix representation of the Hamiltonian operators \n",
    "    Hamiltonian = qnb.bosonic.tools.build_hamiltonian_bose_hubbard( h_tensor,\n",
    "                                                                    U_tensor,\n",
    "                                                                    nbodybasis,\n",
    "                                                                    a_dagger_a ) \n",
    "    eig_en, eig_vec = scipy.linalg.eigh( Hamiltonian.A  ) \n",
    "    \n",
    "    GS_WFT     = eig_vec[:,0]\n",
    "    GS_energy  = eig_en[0]\n",
    "    GS_one_rdm = qnb.bosonic.tools.build_1rdm( GS_WFT, a_dagger_a )\n",
    "    GS_two_rdm = qnb.bosonic.tools.build_2rdm( GS_WFT, a_dagger_a )\n",
    "    \n",
    "    return Hamiltonian, GS_energy, GS_WFT, GS_one_rdm, GS_two_rdm"
   ]
  },
  {
   "cell_type": "markdown",
   "id": "d1ffdbdc",
   "metadata": {},
   "source": [
    "## Applying the function to get information from the system "
   ]
  },
  {
   "cell_type": "code",
   "execution_count": 5,
   "id": "ca8b26b3",
   "metadata": {},
   "outputs": [],
   "source": [
    "Hamiltonian, GS_energy, GS_WFT, GS_one_rdm, GS_two_rdm = Bose_hubbard_all_in_one( h_tensor,\n",
    "                                                                                  U_tensor,\n",
    "                                                                                  nbodybasis,\n",
    "                                                                                  a_dagger_a )"
   ]
  },
  {
   "cell_type": "markdown",
   "id": "6eb00828",
   "metadata": {},
   "source": [
    "## Visualizing the resulting wavefunction in the many-body basis"
   ]
  },
  {
   "cell_type": "code",
   "execution_count": 6,
   "id": "d8a32278",
   "metadata": {},
   "outputs": [
    {
     "name": "stdout",
     "output_type": "stream",
     "text": [
      "\n",
      "\t-----------\n",
      "\t Coeff.      N-body state\n",
      "\t-------     -------------\n",
      "\t+0.44648\t|0,0,5,0,0⟩\n",
      "\t+0.44648\t|0,0,0,0,5⟩\n",
      "\t+0.44648\t|0,0,0,5,0⟩\n",
      "\t+0.44648\t|0,5,0,0,0⟩\n",
      "\t+0.44648\t|5,0,0,0,0⟩\n",
      "\t+0.01283\t|0,0,4,0,1⟩\n",
      "\t+0.01283\t|0,0,4,1,0⟩\n",
      "\t+0.01283\t|0,1,4,0,0⟩\n",
      "\n",
      "\n"
     ]
    }
   ],
   "source": [
    "qnb.bosonic.tools.visualize_wft( GS_WFT, nbodybasis )\n",
    "print()"
   ]
  },
  {
   "cell_type": "markdown",
   "id": "ad2323ee",
   "metadata": {},
   "source": [
    "## Checking the implementation :  comparing different ways to estimate the groundstate energy\n",
    "\n",
    "In order to check if everything is correct, we can compare the resulting GS energy. First, let us evaluate it via the leftprojections $ \\langle \\Psi | H |  \\Psi \\rangle$ as shown below"
   ]
  },
  {
   "cell_type": "code",
   "execution_count": 7,
   "id": "25268fe6",
   "metadata": {},
   "outputs": [],
   "source": [
    "E_projection = GS_WFT.T @ Hamiltonian @ GS_WFT # <== Very simple and intuitive"
   ]
  },
  {
   "cell_type": "markdown",
   "id": "a29edd59",
   "metadata": {},
   "source": [
    "Then using our knowledge of the groundstate RDMs (as shown at the begining of the notebook), this can be done like this"
   ]
  },
  {
   "cell_type": "code",
   "execution_count": 8,
   "id": "47def23c",
   "metadata": {},
   "outputs": [],
   "source": [
    "E_with_RDMs = ( np.einsum( 'pq,pq->', h_tensor, GS_one_rdm, optimize=True)        # <== A bit more elaborated\n",
    "            +   np.einsum( 'pqrs,pqrs->', U_tensor, GS_two_rdm, optimize=True)  )"
   ]
  },
  {
   "cell_type": "markdown",
   "id": "5ab96881",
   "metadata": {},
   "source": [
    "And we can finally compare all these results to the one provided by the \"all in one function\" :"
   ]
  },
  {
   "cell_type": "code",
   "execution_count": 9,
   "id": "cd57d0c3",
   "metadata": {},
   "outputs": [
    {
     "name": "stdout",
     "output_type": "stream",
     "text": [
      "GS energy estimations ======================== \n",
      "With the all in one function -202.25704161029097\n",
      "With the projection method   -202.25704161029097\n",
      "With the RDMs method         -202.257041610291\n"
     ]
    }
   ],
   "source": [
    "print(\"GS energy estimations ======================== \")\n",
    "print( \"With the all in one function\", E_projection )\n",
    "print( \"With the projection method  \", E_projection )\n",
    "print( \"With the RDMs method        \", E_with_RDMs )"
   ]
  },
  {
   "cell_type": "markdown",
   "id": "24c309b7",
   "metadata": {},
   "source": [
    "we should obtain exactly the same thing !"
   ]
  }
 ],
 "metadata": {
  "kernelspec": {
   "display_name": "Python 3 (ipykernel)",
   "language": "python",
   "name": "python3"
  },
  "language_info": {
   "codemirror_mode": {
    "name": "ipython",
    "version": 3
   },
   "file_extension": ".py",
   "mimetype": "text/x-python",
   "name": "python",
   "nbconvert_exporter": "python",
   "pygments_lexer": "ipython3",
   "version": "3.9.13"
  },
  "toc": {
   "base_numbering": 1,
   "nav_menu": {},
   "number_sections": true,
   "sideBar": true,
   "skip_h1_title": false,
   "title_cell": "Table of Contents",
   "title_sidebar": "Contents",
   "toc_cell": false,
   "toc_position": {},
   "toc_section_display": true,
   "toc_window_display": true
  }
 },
 "nbformat": 4,
 "nbformat_minor": 5
}
