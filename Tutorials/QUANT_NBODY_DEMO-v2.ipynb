{
 "cells": [
  {
   "cell_type": "markdown",
   "id": "3d5ae8a5",
   "metadata": {
    "slideshow": {
     "slide_type": "slide"
    }
   },
   "source": [
    "# The *QuantNbody* package:\n",
    "## Exact diagonalization for many-body Hamiltonians\n",
    "\n",
    "**Saad Yalouz**"
   ]
  },
  {
   "cell_type": "markdown",
   "id": "4888eb48",
   "metadata": {
    "slideshow": {
     "slide_type": "slide"
    }
   },
   "source": [
    "**GOALS :** \n",
    "\n",
    "- **1st Part :** Illustrating how we can use the **QuantNbody** package to build many-electron Hamiltonians $\\hat{H}$  (e.g. Hubbard molecule model and electronic structure), and any other important operator.\n",
    "\n",
    "- **2nd Part :** Providing some details about how it is made inside the code **(NO BLACK BOX !)**."
   ]
  },
  {
   "cell_type": "markdown",
   "id": "b7372777",
   "metadata": {
    "slideshow": {
     "slide_type": "slide"
    }
   },
   "source": [
    "## Let's start with a quick demo "
   ]
  },
  {
   "cell_type": "markdown",
   "id": "acfadd1b",
   "metadata": {
    "slideshow": {
     "slide_type": "slide"
    }
   },
   "source": [
    "In the local site basis, the model Hamiltonian is usually expressed such that:\n",
    "\n",
    "$$ \n",
    "\\hat{H} = \\color{blue}{\\sum_{\\langle i,j \\rangle}^{N_{MO}} -t_{ij} \\sum_{\\sigma=\\uparrow,\\downarrow} (\\hat{a}^\\dagger_{j,\\sigma}\\hat{a}_{i,\\sigma}+\\hat{a}^\\dagger_{i,\\sigma}\\hat{a}_{j,\\sigma})} \n",
    "+ \\color{red}{\\sum_i^{N_{MO}} \\mu_{ii} \\sum_{\\sigma=\\uparrow,\\downarrow} \\hat{a}^\\dagger_{i,\\sigma}\\hat{a}_{i,\\sigma} }\n",
    "+ \\color{black}{\n",
    "\\sum_i^{N_{MO}} U_{iiii} \\hat{a}^\\dagger_{i,\\uparrow}\\hat{a}_{i,\\uparrow} \\hat{a}^\\dagger_{i,\\downarrow}\\hat{a}_{i,\\downarrow} \n",
    "}\n",
    "$$\n",
    "\n",
    "with :\n",
    "- <font color='blue'> $t_{ij}$ the hopping terms between the pair of connected sites $\\langle i, j \\rangle$.  \n",
    "- <font color='red'> $\\mu_{ii}$ the local chemical potential on site \"$i$\".\n",
    "- <font color='black'> $U_{iiii}$ the local coulombic repulsion on site \"$i$\".\n",
    "    "
   ]
  },
  {
   "cell_type": "markdown",
   "id": "eac05255-f0d5-4819-b5a6-8e2f95b5049a",
   "metadata": {},
   "source": [
    "<img src=\"graph.png\" width=\"400\"  style=\"margin:auto\"/>"
   ]
  },
  {
   "cell_type": "markdown",
   "id": "255a78dd",
   "metadata": {
    "slideshow": {
     "slide_type": "subslide"
    }
   },
   "source": [
    "In a more general basis (not necessarily local) we have\n",
    "$$   \n",
    "\\hat{H} =\\sum_{\\langle p,q \\rangle}^{N_{MO}} -h_{pq} \\sum_{\\sigma=\\uparrow,\\downarrow} (\\hat{a}^\\dagger_{p,\\sigma}\\hat{a}_{q,\\sigma}+\\hat{a}^\\dagger_{q,\\sigma}\\hat{a}_{p,\\sigma}) + \\sum_i^{N_{MO}} U_{p,q,r,s} \\hat{a}^\\dagger_{p,\\uparrow}\\hat{a}_{q,\\uparrow} \\hat{a}^\\dagger_{r,\\downarrow}\\hat{a}_{s,\\downarrow} \n",
    " $$\n",
    "where for commodity we have introduced the one-body integral term $h_{pq}$ which embed the hopping terms and the chemical potentials such as\n",
    "$$\n",
    "h_{pq} = \\sum_{i,j}^{N_{MO}} (-t_{ij} + \\delta_{ij}\\mu_{ii}) C_{i,p} C_{j,q} \n",
    "$$\n",
    "and the \"delocalized version\" of the coulombic repulsion term\n",
    "$$\n",
    "U_{pqrs} = \\sum_{i}^{N_{MO}}  U_{i,i,i,i} C_{i,p} C_{i,q} C_{i,r} C_{i,s}\n",
    "$$\n",
    "where the matrix ${\\bf C}$ encodes the Molecular Orbital coefficient if we want for example to express the Hamiltonian in a delocalized basis."
   ]
  },
  {
   "cell_type": "code",
   "execution_count": 1,
   "id": "93adc6c5",
   "metadata": {
    "slideshow": {
     "slide_type": "subslide"
    }
   },
   "outputs": [],
   "source": [
    "import quantnbody as qnb # <=== OUR PACKAGE !!!!\n",
    "\n",
    "import numpy as np  \n",
    "import scipy\n",
    "from itertools import combinations_with_replacement, product, combinations\n",
    "import math    \n",
    "from openfermion.ops import FermionOperator\n",
    "from openfermion import transforms\n",
    "import openfermion \n",
    "np.set_printoptions(precision=3) # For nice numpy matrix printing"
   ]
  },
  {
   "cell_type": "markdown",
   "id": "db9090e5",
   "metadata": {
    "slideshow": {
     "slide_type": "subslide"
    }
   },
   "source": [
    "### Model parameters\n",
    "\n",
    "We first define the hopping between the sites $t$, the chemical potentials $\\mu$ and the electronic repulsion $U$."
   ]
  },
  {
   "cell_type": "code",
   "execution_count": 2,
   "id": "9c57b5c8",
   "metadata": {
    "scrolled": true,
    "slideshow": {
     "slide_type": "subslide"
    }
   },
   "outputs": [
    {
     "name": "stdout",
     "output_type": "stream",
     "text": [
      "t_=\n",
      " [[ 0. -1.]\n",
      " [-1.  0.]] \n",
      "\n",
      "Mu_=\n",
      " [[-1.  0.]\n",
      " [ 0. -2.]] \n",
      "\n",
      "h_=\n",
      " [[-1. -1.]\n",
      " [-1. -2.]] \n",
      "\n"
     ]
    }
   ],
   "source": [
    "# Setup for the simulation ========\n",
    "N_MO   = N_elec = 2 \n",
    "dim_H = math.comb( 2*N_MO, N_elec ) # Dimension of the many-body space\n",
    "\n",
    "t_  = np.zeros((N_MO,N_MO))\n",
    "U_  = np.zeros((N_MO,N_MO,N_MO,N_MO))\n",
    "Mu_ = np.zeros((N_MO,N_MO)) \n",
    "for i in range(N_MO): \n",
    "    U_[i,i,i,i]  =  1 * (1+i)  # Local coulombic repulsion \n",
    "    Mu_[i,i]     = -1 * (1+i)  # Local chemical potential\n",
    "    \n",
    "    for j in range(i+1,N_MO): \n",
    "        t_[i,j] = t_[j,i] = - 1  # hopping\n",
    "\n",
    "h_ = t_  + np.diag( np.diag(Mu_) ) # Global one-body matrix = hoppings + chemical potentials\n",
    "\n",
    "print( 't_=\\n',t_ ,'\\n')\n",
    "\n",
    "print( 'Mu_=\\n',Mu_ ,'\\n')\n",
    "\n",
    "print( 'h_=\\n',h_ ,'\\n')"
   ]
  },
  {
   "cell_type": "markdown",
   "id": "708a0483",
   "metadata": {
    "slideshow": {
     "slide_type": "subslide"
    }
   },
   "source": [
    "### Building the basis of N-body states\n",
    "\n",
    "We create a list (a basis) of many-body state which describe the repartition of $N_{elec}$ electrons in $2N_{MO}$ spin-orbitals  \n",
    "\n",
    "$$\n",
    "\\Big\\lbrace |\\kappa \\rangle \\Big\\rbrace_{\\textstyle \\kappa=1}^{\\textstyle \\dim_H}\n",
    "$$ \n",
    "\n",
    "which is indexed by the label \"$\\kappa$\"\n",
    "\n",
    "The dimension $\\dim_H$ of the many-body basis depends on $N_{elec}$ and $N_{MO}$ via a binomial law such that\n",
    "\n",
    "$$\\dim_H = \\binom{2N_{MO}}{N_{elec}}$$\n",
    "\n",
    "**A little example with $N_{MO}=N_{elec}=2$ :** In this case, we have 6 many-body states."
   ]
  },
  {
   "cell_type": "code",
   "execution_count": 3,
   "id": "56154b41",
   "metadata": {
    "slideshow": {
     "slide_type": "subslide"
    }
   },
   "outputs": [
    {
     "name": "stdout",
     "output_type": "stream",
     "text": [
      "| kappa ⟩ = many-body state\n",
      "| 0 ⟩     = [1 1 0 0]\n",
      "| 1 ⟩     = [1 0 1 0]\n",
      "| 2 ⟩     = [1 0 0 1]\n",
      "| 3 ⟩     = [0 1 1 0]\n",
      "| 4 ⟩     = [0 1 0 1]\n",
      "| 5 ⟩     = [0 0 1 1]\n"
     ]
    }
   ],
   "source": [
    "obj = qnb.Hamiltonian(N_MO, N_elec) \n",
    "# when we call constructor of the class we also generate nbody_basis (that will be saved in the obj.nbody_basis)\n",
    "\n",
    "\n",
    "print( '| kappa ⟩', '= many-body state',  )\n",
    "kappa = 0\n",
    "for state in obj.nbody_basis:\n",
    "    print( '| {} ⟩'.format(kappa), '    =', state )\n",
    "    kappa += 1"
   ]
  },
  {
   "cell_type": "markdown",
   "id": "65506c8f",
   "metadata": {
    "slideshow": {
     "slide_type": "fragment"
    }
   },
   "source": [
    "**Nota Bene :** on the meaning of the many-body states :\n",
    "\n",
    "- Couple of terms refer to a same spatial orbital\n",
    "-  Even indices refer to $\\alpha$-spinorbital  \n",
    "-  Odd indices refer to $\\beta$-spinorbital  \n",
    "    \n",
    "$$| \\kappa  = 0\\rangle = | \\underbrace{   \\overbrace{1}^{ \\textstyle  {\\alpha}}, \\; \\; \\;\\overbrace{1}^{ \\textstyle  {\\beta}},}_{\\textstyle 1st \\ MO}\\; \\; \\underbrace{\\overbrace{0}^{ \\textstyle  {\\alpha}}, \\; \\; \\; \\overbrace{0}^{ \\textstyle  {\\beta}}}_{\\textstyle 2nd \\ MO} \\rangle$$"
   ]
  },
  {
   "cell_type": "markdown",
   "id": "3261a4fb",
   "metadata": {
    "slideshow": {
     "slide_type": "subslide"
    }
   },
   "source": [
    "### Building the operators $a^\\dagger_{p,\\sigma} a_{q,\\sigma}$\n",
    "\n",
    "A key element to build almost everyting we need (Hamiltonian, RDMs ...) is the matrix representation of the operators $a^\\dagger_{p,\\sigma} a_{q,\\sigma}$ in the many-body basis.  \n",
    "\n",
    "\n",
    "<!-- \n",
    "**But we will see how to do that in practice later on !!!!**  -->\n",
    "\n",
    "<!-- For the moment, let's call the function which builds these operators !! -->"
   ]
  },
  {
   "cell_type": "code",
   "execution_count": 4,
   "id": "3a1249f2",
   "metadata": {
    "slideshow": {
     "slide_type": "fragment"
    }
   },
   "outputs": [
    {
     "name": "stdout",
     "output_type": "stream",
     "text": [
      "(4, 4)\n"
     ]
    }
   ],
   "source": [
    "obj.build_operator_a_dagger_a(silent=True)  # in this case a_dagger_a is saved in obj.a_dagger_a\n",
    "print(obj.a_dagger_a.shape)"
   ]
  },
  {
   "cell_type": "markdown",
   "id": "0e89bd78",
   "metadata": {
    "slideshow": {
     "slide_type": "subslide"
    }
   },
   "source": [
    "### Building the Hamiltonian\n",
    "\n",
    "We pass three ingredients to the function:\n",
    "- Parameters of the model\n",
    "- The Many-body basis\n",
    "- The $a^\\dagger a $ operators"
   ]
  },
  {
   "cell_type": "code",
   "execution_count": 5,
   "id": "24c617cb",
   "metadata": {
    "slideshow": {
     "slide_type": "fragment"
    }
   },
   "outputs": [
    {
     "name": "stdout",
     "output_type": "stream",
     "text": [
      "H (SPARSE) =\n",
      "  (0, 0)\t-1.0\n",
      "  (0, 2)\t-1.0\n",
      "  (0, 3)\t1.0\n",
      "  (1, 1)\t-3.0\n",
      "  (2, 0)\t-1.0\n",
      "  (2, 2)\t-3.0\n",
      "  (2, 5)\t-1.0\n",
      "  (3, 0)\t1.0\n",
      "  (3, 3)\t-3.0\n",
      "  (3, 5)\t1.0\n",
      "  (4, 4)\t-3.0\n",
      "  (5, 2)\t-1.0\n",
      "  (5, 3)\t1.0\n",
      "  (5, 5)\t-2.0\n"
     ]
    }
   ],
   "source": [
    "obj.build_hamiltonian_fermi_hubbard(h_, U_)\n",
    "\n",
    "print('H (SPARSE) =' )\n",
    "print(obj.H)"
   ]
  },
  {
   "cell_type": "code",
   "execution_count": 6,
   "id": "2fa17588",
   "metadata": {
    "slideshow": {
     "slide_type": "subslide"
    }
   },
   "outputs": [
    {
     "name": "stdout",
     "output_type": "stream",
     "text": [
      "H (DENSE) =\n",
      "[[-1.  0. -1.  1.  0.  0.]\n",
      " [ 0. -3.  0.  0.  0.  0.]\n",
      " [-1.  0. -3.  0.  0. -1.]\n",
      " [ 1.  0.  0. -3.  0.  1.]\n",
      " [ 0.  0.  0.  0. -3.  0.]\n",
      " [ 0.  0. -1.  1.  0. -2.]]\n"
     ]
    }
   ],
   "source": [
    "print('H (DENSE) =' )\n",
    "print(obj.H.A)"
   ]
  },
  {
   "cell_type": "markdown",
   "id": "a6c100ab",
   "metadata": {
    "slideshow": {
     "slide_type": "subslide"
    }
   },
   "source": [
    "We diagonalize the resulting matrix and we visualize the ground state"
   ]
  },
  {
   "cell_type": "code",
   "execution_count": 7,
   "id": "887339e3",
   "metadata": {
    "scrolled": true,
    "slideshow": {
     "slide_type": "fragment"
    }
   },
   "outputs": [
    {
     "name": "stdout",
     "output_type": "stream",
     "text": [
      "Energies = [-4.414 -3.    -3.    -3.   ]\n",
      "\n",
      "\t-----------\n",
      "\t Coeff.      N-body state\n",
      "\t-------     -------------\n",
      "\t-0.57454\t|0110⟩\n",
      "\t+0.57454\t|1001⟩\n",
      "\t+0.47596\t|0011⟩\n",
      "\t+0.33656\t|1100⟩\n",
      "\n",
      "\n"
     ]
    }
   ],
   "source": [
    "obj.diagonalize_hamiltonian(full=True)\n",
    "obj.eig_values # <-- eigenvalues\n",
    "obj.eig_vectors # <-- eigenvalues\n",
    "\n",
    "print('Energies =', obj.eig_values[0:4] )\n",
    "\n",
    "WFT = obj.eig_vectors[:,0]\n",
    "\n",
    "# Visualizing the groundstate in the many-body basis\n",
    "qnb.tools.visualize_wft(WFT, obj.nbody_basis, cutoff=0.00) # <=== FCT IN THE PACKAGE\n",
    "print()"
   ]
  },
  {
   "cell_type": "markdown",
   "id": "0d4b0e39-32a9-49a8-a166-3d8a59af2af5",
   "metadata": {},
   "source": [
    "### Alternative way of building Hamiltionian\n",
    "Instead of using class `Hamiltonian` we can also use tools functions:"
   ]
  },
  {
   "cell_type": "code",
   "execution_count": 8,
   "id": "1ac05eab-9ffe-48ab-88c2-f5ad6ccf11e0",
   "metadata": {},
   "outputs": [],
   "source": [
    "nbody_basis = qnb.tools.build_nbody_basis( N_MO, N_elec ) # <=== FCT IN THE PACKAGE\n",
    "a_dagger_a = qnb.tools.build_operator_a_dagger_a(nbody_basis)\n",
    "H = qnb.tools.build_hamiltonian_fermi_hubbard( h_, U_,  nbody_basis, a_dagger_a ) # <=== FCT IN THE PACKAGE\n",
    "eig_energies, eig_vectors =  scipy.linalg.eigh(H.A)"
   ]
  },
  {
   "cell_type": "markdown",
   "id": "7a43c9f0",
   "metadata": {
    "slideshow": {
     "slide_type": "subslide"
    }
   },
   "source": [
    "### Building different types of RDM from the groundstate"
   ]
  },
  {
   "cell_type": "code",
   "execution_count": 9,
   "id": "df9e5860",
   "metadata": {
    "slideshow": {
     "slide_type": "fragment"
    }
   },
   "outputs": [],
   "source": [
    "# Building the 1-RDM of the groundstate in the original many-body basis\n",
    "one_rdm_alpha = qnb.tools.build_1rdm_alpha(WFT, obj.a_dagger_a)     # <=== FCT IN THE PACKAGE\n",
    "one_rdm_beta  = qnb.tools.build_1rdm_beta(WFT, obj.a_dagger_a)      # <=== FCT IN THE PACKAGE\n",
    "one_rdm       = qnb.tools.build_1rdm_spin_free(WFT, obj.a_dagger_a) # <=== FCT IN THE PACKAGE\n",
    "\n",
    "two_rdm       = qnb.tools.build_2rdm_fh_on_site_repulsion(WFT, obj.a_dagger_a) # <=== FCT IN THE PACKAGE"
   ]
  },
  {
   "cell_type": "code",
   "execution_count": 10,
   "id": "004273e4",
   "metadata": {
    "slideshow": {
     "slide_type": "skip"
    }
   },
   "outputs": [],
   "source": [
    "def E_( P, Q ):\n",
    "    \"\"\"\n",
    "    >>>>>>>>>>>>>>>>>>>>>>>>>>>>>>>>>>>>>>>>>>>>>>>>>>>>>>>>>>>>>>>>>>>>>>>>\n",
    "    Function to create one fermionic singlet\n",
    "    excitation operator : E_PQ (element of the  MO 1-electron RDM)\n",
    "    >>>>>>>>>>>>>>>>>>>>>>>>>>>>>>>>>>>>>>>>>>>>>>>>>>>>>>>>>>>>>>>>>>>>>>>>\n",
    "    \"\"\"\n",
    "    return (  FermionOperator('{}^ {}'.format( 2*P, 2*Q ))\n",
    "            + FermionOperator('{}^ {}'.format( 2*P+1, 2*Q+1 )) )  \n",
    "\n",
    "\n",
    "H_FH = FermionOperator.zero()\n",
    "for p in range(N_MO):\n",
    "    n_up   = FermionOperator('{}^ {}'.format( 2*p, 2*p ) )\n",
    "    n_down = FermionOperator('{}^ {}'.format( 2*p+1, 2*p+1 ))\n",
    "    H_FH +=  U_[p,p,p,p] *  n_up * n_down + Mu_[p,p] * ( n_up + n_down )\n",
    "    for q in range(N_MO):\n",
    "        H_FH +=  E_( p, q) * t_[p,q]\n",
    "        \n",
    "H_FH_JW = transforms.jordan_wigner( H_FH )\n",
    "H_FH_sparse = openfermion.get_sparse_operator( H_FH_JW, n_qubits=2*N_MO )\n",
    "\n",
    "number_operator = FermionOperator('0^ 0')\n",
    "for i in range(1,2*N_MO):\n",
    "    number_operator += FermionOperator( '{0}^ {0}'.format(i) )\n",
    "        \n",
    "# We build the projector onto the subspace spanning the 4 electrons fock states \n",
    "number_operator_jw = transforms.jordan_wigner(number_operator)\n",
    "number_operator_sparse = openfermion.get_sparse_operator(number_operator_jw,n_qubits=2*N_MO) \n",
    "number_operator_eig = scipy.linalg.eigh(number_operator_sparse.A)\n",
    "n_projector_basis   = number_operator_eig[1][ :,   np.round(number_operator_eig[0]) == N_elec   ] \n",
    "n_projector = np.einsum('ji, ki', n_projector_basis, n_projector_basis.conjugate(), optimize=True)  \n",
    " \n",
    "H_FH_  = n_projector @ H_FH_sparse.A @  n_projector\n",
    "\n",
    "OF_eig_energies, OF_eig_vectors = scipy.linalg.eigh( H_FH_ ) #scipy.sparse.linalg.eigsh(H, k=4) "
   ]
  },
  {
   "cell_type": "markdown",
   "id": "0829e337",
   "metadata": {
    "slideshow": {
     "slide_type": "subslide"
    }
   },
   "source": [
    "### Comparison of the energies from Openfermion and from our package"
   ]
  },
  {
   "cell_type": "code",
   "execution_count": 11,
   "id": "479de644",
   "metadata": {
    "slideshow": {
     "slide_type": "fragment"
    }
   },
   "outputs": [
    {
     "name": "stdout",
     "output_type": "stream",
     "text": [
      " Our Quant_Nbody package  -4.414213562373096 -3.0 -3.0 -3.0\n",
      " Openfermion package      -4.414213562373091 -3.0000000000000018 -3.0 -2.999999999999999\n",
      "True\n"
     ]
    }
   ],
   "source": [
    "print( ' Our Quant_Nbody package ', *obj.eig_values[0:4] )\n",
    "print( ' Openfermion package     ', *OF_eig_energies[0:4] )\n",
    "\n",
    "print( np.allclose(obj.eig_values[0:4], OF_eig_energies[0:4]) ) "
   ]
  },
  {
   "cell_type": "markdown",
   "id": "cb12b719",
   "metadata": {
    "slideshow": {
     "slide_type": "slide"
    }
   },
   "source": [
    "## Electronic structure Hamiltonian (SEE NOTEBOOK !)"
   ]
  },
  {
   "cell_type": "code",
   "execution_count": 12,
   "id": "b1877d0a",
   "metadata": {
    "scrolled": true,
    "slideshow": {
     "slide_type": "skip"
    }
   },
   "outputs": [
    {
     "name": "stdout",
     "output_type": "stream",
     "text": [
      "\n",
      "\t ===========================================\n",
      "\t ====  The matrix form of a^a is built  ====\n",
      "\t ===========================================\n",
      "  0%|          | 0/30 [00:00<?, ?it/s]      converged SCF energy = -1.53885163577021\n"
     ]
    },
    {
     "name": "stderr",
     "output_type": "stream",
     "text": [
      "Overwritten attributes  contract_2e  of <class 'pyscf.fci.FCI.<locals>.CISolver'>\n"
     ]
    },
    {
     "name": "stdout",
     "output_type": "stream",
     "text": [
      "  3%|▎         | 1/30 [00:01<00:43,  1.51s/it]      converged SCF energy = -1.90788544183602\n",
      "  7%|▋         | 2/30 [00:03<00:51,  1.85s/it]      converged SCF energy = -2.09487072066201\n",
      " 10%|█         | 3/30 [00:05<00:46,  1.70s/it]      converged SCF energy = -2.18279135994622\n",
      " 13%|█▎        | 4/30 [00:06<00:40,  1.56s/it]      converged SCF energy = -2.21326133829897\n",
      " 17%|█▋        | 5/30 [00:07<00:36,  1.48s/it]      converged SCF energy = -2.20946540350719\n",
      " 20%|██        | 6/30 [00:10<00:41,  1.73s/it]      converged SCF energy = -2.18502584837441\n",
      " 23%|██▎       | 7/30 [00:12<00:45,  1.99s/it]      converged SCF energy = -2.14802376489281\n",
      " 27%|██▋       | 8/30 [00:14<00:46,  2.11s/it]      converged SCF energy = -2.10323494416862\n",
      " 30%|███       | 9/30 [00:17<00:45,  2.16s/it]      converged SCF energy = -2.05350318301447\n",
      " 33%|███▎      | 10/30 [00:19<00:41,  2.07s/it]      converged SCF energy = -2.00055170936199\n",
      " 37%|███▋      | 11/30 [00:21<00:41,  2.16s/it]      converged SCF energy = -1.9454161332905\n",
      " 40%|████      | 12/30 [00:23<00:37,  2.08s/it]      converged SCF energy = -1.8886531492077\n",
      " 43%|████▎     | 13/30 [00:25<00:37,  2.19s/it]      converged SCF energy = -1.83043554276148\n",
      " 47%|████▋     | 14/30 [00:27<00:35,  2.19s/it]      converged SCF energy = -1.77059540295997\n",
      " 50%|█████     | 15/30 [00:30<00:32,  2.15s/it]      converged SCF energy = -1.77059540295997\n",
      " 53%|█████▎    | 16/30 [00:31<00:28,  2.07s/it]      converged SCF energy = -1.83043554276147\n",
      " 57%|█████▋    | 17/30 [00:33<00:26,  2.05s/it]      converged SCF energy = -1.88865314920771\n",
      " 60%|██████    | 18/30 [00:35<00:23,  1.99s/it]      converged SCF energy = -1.9454161332905\n",
      " 63%|██████▎   | 19/30 [00:37<00:21,  1.96s/it]      converged SCF energy = -2.00055170936199\n",
      " 67%|██████▋   | 20/30 [00:39<00:20,  2.01s/it]      converged SCF energy = -2.05350318301447\n",
      " 70%|███████   | 21/30 [00:41<00:17,  1.93s/it]      converged SCF energy = -2.10323494416862\n",
      " 73%|███████▎  | 22/30 [00:43<00:15,  1.91s/it]      converged SCF energy = -2.14802376489281\n",
      " 77%|███████▋  | 23/30 [00:45<00:13,  1.94s/it]      converged SCF energy = -2.18502584837441\n",
      " 80%|████████  | 24/30 [00:47<00:11,  2.00s/it]      converged SCF energy = -2.20946540350719\n",
      " 83%|████████▎ | 25/30 [00:49<00:09,  1.98s/it]      converged SCF energy = -2.21326133829897\n",
      " 87%|████████▋ | 26/30 [00:51<00:08,  2.08s/it]      converged SCF energy = -2.18279135994622\n",
      " 90%|█████████ | 27/30 [00:54<00:06,  2.19s/it]      converged SCF energy = -2.09487072066201\n",
      " 93%|█████████▎| 28/30 [01:00<00:06,  3.33s/it]      converged SCF energy = -1.90788544183602\n",
      " 97%|█████████▋| 29/30 [01:09<00:05,  5.04s/it]      converged SCF energy = -1.53885163577021\n",
      "100%|██████████| 30/30 [01:21<00:00,  2.71s/it]\n"
     ]
    }
   ],
   "source": [
    "import numpy as np\n",
    "from tqdm import tqdm\n",
    "import quantnbody as qnb\n",
    "import math\n",
    "import pyscf \n",
    "import sys\n",
    "from pyscf import gto, scf, ao2mo, mcscf, fci \n",
    " \n",
    "list_theta = np.linspace(num = 30, start=20. * np.pi/180., stop=160. * np.pi/180., endpoint=True) \n",
    "E_HF  = []\n",
    "E_FCI = []\n",
    "E_FCI_me = []\n",
    "\n",
    "N_elec = N_MO = 4\n",
    "dim_H  = math.comb(2*N_MO, N_elec)\n",
    "\n",
    "mol_qnb = qnb.Hamiltonian(N_MO, N_elec)\n",
    "  \n",
    "MAX_ROOT = 15\n",
    "\n",
    "dim_parameter = len(list_theta)\n",
    "Energies_FCI    = np.zeros((dim_parameter,MAX_ROOT))\n",
    "Energies_FCI_me = np.zeros((dim_parameter,dim_H)) \n",
    "\n",
    "\n",
    "mol_qnb.build_operator_a_dagger_a()\n",
    "S_2, S_plus, S_z =  qnb.tools.build_s2_sz_splus_operator(mol_qnb.a_dagger_a)\n",
    "# for r in tqdm(list_r):\n",
    "elem = 0\n",
    "for theta in tqdm(list_theta, file=sys.stdout): \n",
    "    r = 1.\n",
    "     \n",
    "    XYZ_geometry = \"\"\" H   {0}   {1}  0.\n",
    "                       H   {0}  -{1}  0. \n",
    "                       H  -{0}   {1}  0.\n",
    "                       H  -{0}  -{1}  0.  \"\"\".format( r*np.cos(theta/2.), r*np.sin(theta/2.) ) \n",
    "     \n",
    "    mol = gto.Mole()\n",
    "    mol.build( atom     = XYZ_geometry,  # in Angstrom\n",
    "               basis    = 'STO-3G',\n",
    "               symmetry = False,\n",
    "               spin     = 0 )\n",
    "\n",
    "    mf = scf.RHF(mol)\n",
    "    print('      ', end='')\n",
    "    mf.kernel() \n",
    "    FCI_solver = pyscf.fci.FCI( mf, mf.mo_coeff  )  \n",
    "    FCI_solver = fci.addons.fix_spin_(FCI_solver, ss=0, shift=10 ) \n",
    "    \n",
    "    FCI_solver.nroots = MAX_ROOT\n",
    "    E_FCI_pyscf, Wfn_FCI = FCI_solver.kernel()           \n",
    "    h_MO = np.einsum('pi,pq,qj->ij', mf.mo_coeff,\n",
    "                           mol.intor_symmetric('int1e_kin') + mol.intor_symmetric('int1e_nuc'),\n",
    "                           mf.mo_coeff) \n",
    "    g_MO  = ao2mo.kernel( mol, mf.mo_coeff )\n",
    "    g_MO  = ao2mo.restore('s1', g_MO, N_MO)\n",
    " \n",
    "\n",
    "    E_rep_nuc = mol.energy_nuc()                  # Nuclei repuslion energy\n",
    " \n",
    "    mol_qnb.build_hamiltonian_quantum_chemistry(h_MO, g_MO)  \n",
    "    eig_energies, eig_vectors =  np.linalg.eigh(mol_qnb.H.A) \n",
    "    E_FCI_me += [ E_rep_nuc + eig_energies[0] ]\n",
    "    \n",
    "    Energies_FCI_me[elem,:] = [ E_rep_nuc + eig_energies[p]  for p in range(dim_H) ] \n",
    "    \n",
    "    Energies_FCI[elem,:] = E_FCI_pyscf\n",
    "    \n",
    "    elem += 1 "
   ]
  },
  {
   "cell_type": "code",
   "execution_count": 13,
   "id": "dc23633b",
   "metadata": {
    "slideshow": {
     "slide_type": "skip"
    }
   },
   "outputs": [
    {
     "name": "stderr",
     "output_type": "stream",
     "text": [
      "findfont: Font family ['serif'] not found. Falling back to DejaVu Sans.\n",
      "findfont: Generic family 'serif' not found because none of the following families were found: Times New Roman\n",
      "findfont: Font family ['serif'] not found. Falling back to DejaVu Sans.\n",
      "findfont: Generic family 'serif' not found because none of the following families were found: Times New Roman\n",
      "findfont: Font family ['serif'] not found. Falling back to DejaVu Sans.\n",
      "findfont: Generic family 'serif' not found because none of the following families were found: Times New Roman\n"
     ]
    },
    {
     "data": {
      "image/png": "[encoded data removed]",
      "text/plain": [
       "<Figure size 576x432 with 1 Axes>"
      ]
     },
     "metadata": {
      "needs_background": "light"
     },
     "output_type": "display_data"
    }
   ],
   "source": [
    "import matplotlib.pyplot as plt\n",
    "\n",
    "plt.rc('font',  family='serif')\n",
    "plt.rc('font',  serif='Times New Roman')\n",
    "plt.rc('font',  size='14') \n",
    "plt.rc('xtick', labelsize='x-large')\n",
    "plt.rc('ytick', labelsize='x-large') \n",
    "plt.rc('lines', linewidth='2') \n",
    "\n",
    "# Plotting the resulting energies\n",
    "fig, ( ax1 ) = plt.subplots( nrows=1, ncols=1, figsize=(8, 6)  ) \n",
    "for i in range(3):\n",
    "    if i ==0:\n",
    "        ax1.plot( list_theta, Energies_FCI[:,i], color='red' , label='PySCF (SINGLET ONLY)' ) \n",
    "    else:\n",
    "        ax1.plot( list_theta, Energies_FCI[:,i], color='red'   ) \n",
    "for i in range(9):\n",
    "    if i ==0: \n",
    "        ax1.plot( list_theta, Energies_FCI_me[:,i], color='blue', ls='--' , label='Quant_NBody package'    )  \n",
    "    else:\n",
    "        ax1.plot( list_theta, Energies_FCI_me[:,i], color='blue', ls='--'   ) \n",
    "ax1.grid()\n",
    "\n",
    "\n",
    "ax1.set_ylabel('Energy (Ha)', size=24)\n",
    "ax1.set_xlabel('Angle (rad.)', size=24)\n",
    "ax1.legend(fontsize='large', ncol=1)\n",
    "\n",
    "plt.tight_layout()\n",
    "\n",
    "plt.savefig('PES_H4_ring.pdf')\n",
    "  \n",
    "plt.show()\n",
    " \n",
    " "
   ]
  },
  {
   "cell_type": "markdown",
   "id": "6afda96c",
   "metadata": {
    "slideshow": {
     "slide_type": "skip"
    }
   },
   "source": [
    "**Let us check the spin of the low lying states**"
   ]
  },
  {
   "cell_type": "code",
   "execution_count": 14,
   "id": "58881026",
   "metadata": {
    "slideshow": {
     "slide_type": "skip"
    }
   },
   "outputs": [
    {
     "name": "stdout",
     "output_type": "stream",
     "text": [
      "Value of S_2 :  4.092601131822876e-33\n",
      "Value of S_2 :  2.000000000000003\n",
      "Value of S_2 :  2.000000000000007\n",
      "Value of S_2 :  1.9999999999999971\n",
      "Value of S_2 :  2.000000000000003\n",
      "Value of S_2 :  2.0000000000000053\n",
      "Value of S_2 :  1.9999999999999996\n",
      "Value of S_2 :  2.2876966251409342e-29\n",
      "Value of S_2 :  2.800456213534592e-29\n",
      "Value of S_2 :  2.0000000000000027\n"
     ]
    }
   ],
   "source": [
    "S_2, S_plus, S_z =  qnb.tools.build_s2_sz_splus_operator(mol_qnb.a_dagger_a) # <=== FCT IN THE PACKAGE\n",
    "\n",
    "for i in range(10):\n",
    "    print('Value of S_2 : ', eig_vectors[:,i].T @ S_2 @ eig_vectors[:,i])\n"
   ]
  },
  {
   "cell_type": "code",
   "execution_count": 15,
   "id": "9ae76ea7",
   "metadata": {
    "slideshow": {
     "slide_type": "skip"
    }
   },
   "outputs": [
    {
     "name": "stdout",
     "output_type": "stream",
     "text": [
      "\n",
      "\t ===========================================\n",
      "\t ====  The matrix form of a^a is built  ====\n",
      "\t ===========================================\n",
      "  0%|          | 0/30 [00:00<?, ?it/s]converged SCF energy = -1.5388516357702\n",
      "  3%|▎         | 1/30 [00:03<01:49,  3.77s/it]converged SCF energy = -1.90788544183602\n",
      "  7%|▋         | 2/30 [00:09<02:20,  5.01s/it]converged SCF energy = -2.09487072066201\n",
      " 10%|█         | 3/30 [00:13<02:03,  4.56s/it]converged SCF energy = -2.18279135994622\n",
      " 13%|█▎        | 4/30 [00:18<02:00,  4.63s/it]converged SCF energy = -2.21326133829897\n",
      " 17%|█▋        | 5/30 [00:23<02:03,  4.96s/it]converged SCF energy = -2.20946540350719\n",
      " 20%|██        | 6/30 [00:29<02:03,  5.14s/it]converged SCF energy = -2.18502584837441\n",
      " 23%|██▎       | 7/30 [00:32<01:42,  4.46s/it]converged SCF energy = -2.14802376489281\n",
      " 27%|██▋       | 8/30 [00:38<01:48,  4.92s/it]converged SCF energy = -2.10323494416862\n",
      " 30%|███       | 9/30 [00:42<01:36,  4.61s/it]converged SCF energy = -2.05350318301447\n",
      " 33%|███▎      | 10/30 [00:46<01:32,  4.60s/it]converged SCF energy = -2.00055170936199\n",
      " 37%|███▋      | 11/30 [00:50<01:23,  4.40s/it]converged SCF energy = -1.9454161332905\n",
      " 40%|████      | 12/30 [00:56<01:25,  4.74s/it]converged SCF energy = -1.8886531492077\n",
      " 43%|████▎     | 13/30 [01:02<01:27,  5.14s/it]converged SCF energy = -1.83043554276147\n",
      " 47%|████▋     | 14/30 [01:06<01:17,  4.83s/it]converged SCF energy = -1.77059540295997\n",
      " 50%|█████     | 15/30 [01:15<01:31,  6.13s/it]converged SCF energy = -1.77059540295997\n",
      " 53%|█████▎    | 16/30 [01:19<01:13,  5.28s/it]converged SCF energy = -1.83043554276147\n",
      " 57%|█████▋    | 17/30 [01:26<01:17,  5.94s/it]converged SCF energy = -1.88865314920771\n",
      " 60%|██████    | 18/30 [01:32<01:09,  5.81s/it]converged SCF energy = -1.9454161332905\n",
      " 63%|██████▎   | 19/30 [01:36<00:59,  5.40s/it]converged SCF energy = -2.00055170936199\n",
      " 67%|██████▋   | 20/30 [01:38<00:43,  4.37s/it]converged SCF energy = -2.05350318301447\n",
      " 70%|███████   | 21/30 [01:40<00:32,  3.56s/it]converged SCF energy = -2.10323494416862\n",
      " 73%|███████▎  | 22/30 [01:41<00:23,  2.95s/it]converged SCF energy = -2.14802376489281\n",
      " 77%|███████▋  | 23/30 [01:42<00:17,  2.47s/it]converged SCF energy = -2.18502584837441\n",
      " 80%|████████  | 24/30 [01:44<00:13,  2.19s/it]converged SCF energy = -2.20946540350719\n",
      " 83%|████████▎ | 25/30 [01:46<00:09,  2.00s/it]converged SCF energy = -2.21326133829897\n",
      " 87%|████████▋ | 26/30 [01:47<00:07,  1.86s/it]converged SCF energy = -2.18279135994622\n",
      " 90%|█████████ | 27/30 [01:49<00:05,  1.89s/it]converged SCF energy = -2.09487072066201\n",
      " 93%|█████████▎| 28/30 [01:50<00:03,  1.75s/it]converged SCF energy = -1.90788544183602\n",
      " 97%|█████████▋| 29/30 [01:52<00:01,  1.67s/it]converged SCF energy = -1.53885163577021\n",
      "100%|██████████| 30/30 [01:54<00:00,  3.81s/it]\n"
     ]
    }
   ],
   "source": [
    "import numpy as np\n",
    "from tqdm import tqdm\n",
    "import quantnbody as qnb\n",
    "import math\n",
    "import pyscf \n",
    "from pyscf import gto, scf, ao2mo, mcscf, fci\n",
    " \n",
    "list_theta = np.linspace(num = 30, start=20. * np.pi/180., stop=160. * np.pi/180., endpoint=True) \n",
    "E_HF  = []\n",
    "E_FCI = []\n",
    "E_FCI_me = []\n",
    "\n",
    "N_elec = N_MO = 4\n",
    "dim_H  = math.comb(2 * N_MO, N_elec)\n",
    "\n",
    "mol_qnb = qnb.Hamiltonian(N_MO, N_elec)\n",
    "  \n",
    "MAX_ROOT = 15\n",
    "\n",
    "dim_parameter = len(list_theta)\n",
    "Energies_FCI    = np.zeros((dim_parameter,MAX_ROOT))\n",
    "Energies_FCI_me = np.zeros((dim_parameter,dim_H)) \n",
    "\n",
    "mol_qnb.build_operator_a_dagger_a()\n",
    "S_2, S_plus, S_z =  qnb.tools.build_s2_sz_splus_operator(mol_qnb.a_dagger_a)\n",
    "# for r in tqdm(list_r):\n",
    "elem = 0\n",
    "for theta in tqdm(list_theta, file=sys.stdout): \n",
    "    r = 1.\n",
    "     \n",
    "    XYZ_geometry = \"\"\" H   {0}   {1}  0.\n",
    "                       H   {0}  -{1}  0. \n",
    "                       H  -{0}   {1}  0.\n",
    "                       H  -{0}  -{1}  0.  \"\"\".format( r*np.cos(theta/2.), r*np.sin(theta/2.) ) \n",
    "     \n",
    "    mol = gto.Mole()\n",
    "    mol.build( atom     = XYZ_geometry,  # in Angstrom\n",
    "               basis    = 'STO-3G',\n",
    "               symmetry = False,\n",
    "               spin     = 0 )\n",
    "\n",
    "    mf = scf.RHF( mol )  \n",
    "    mf.kernel() \n",
    "    FCI_solver = pyscf.fci.FCI( mf, mf.mo_coeff  )  \n",
    "    FCI_solver = fci.addons.fix_spin_(FCI_solver, ss=0, shift=10 ) \n",
    "    \n",
    "    FCI_solver.nroots = MAX_ROOT\n",
    "    E_FCI_pyscf, Wfn_FCI = FCI_solver.kernel()           \n",
    "    \n",
    "    h_MO = np.einsum('pi,pq,qj->ij', mf.mo_coeff,\n",
    "                           mol.intor_symmetric('int1e_kin') + mol.intor_symmetric('int1e_nuc'),\n",
    "                           mf.mo_coeff) \n",
    "    g_MO  = ao2mo.kernel( mol, mf.mo_coeff )\n",
    "    g_MO  = ao2mo.restore('s1', g_MO, N_MO)\n",
    " \n",
    "\n",
    "    E_rep_nuc = mol.energy_nuc()                  # Nuclei repuslion energy\n",
    " \n",
    "    mol_qnb.build_hamiltonian_quantum_chemistry( h_MO, g_MO, S_2 = S_2, S_2_target=0)  \n",
    "    mol_qnb.diagonalize_hamiltonian(full=True)\n",
    "    # eig_energies, eig_vectors =  np.linalg.eigh(mol_qnb.H.A) \n",
    "    E_FCI_me += [ E_rep_nuc + mol_qnb.eig_values[0]]\n",
    "    \n",
    "    Energies_FCI_me[elem,:] = [ E_rep_nuc + mol_qnb.eig_values[p]  for p in range(dim_H) ] \n",
    "    \n",
    "    Energies_FCI[elem,:] = E_FCI_pyscf\n",
    "     \n",
    "    \n",
    "    elem += 1 "
   ]
  },
  {
   "cell_type": "code",
   "execution_count": 16,
   "id": "289916e8",
   "metadata": {
    "slideshow": {
     "slide_type": "skip"
    }
   },
   "outputs": [
    {
     "data": {
      "image/png": "[encoded data removed]",
      "text/plain": [
       "<Figure size 576x432 with 1 Axes>"
      ]
     },
     "metadata": {
      "needs_background": "light"
     },
     "output_type": "display_data"
    }
   ],
   "source": [
    "import matplotlib.pyplot as plt\n",
    "\n",
    "plt.rc('font',  family='serif')\n",
    "plt.rc('font',  serif='Times New Roman')\n",
    "plt.rc('font',  size='14') \n",
    "plt.rc('xtick', labelsize='x-large')\n",
    "plt.rc('ytick', labelsize='x-large') \n",
    "plt.rc('lines', linewidth='2') \n",
    "\n",
    "# Plotting the resulting energies\n",
    "fig, ( ax1 ) = plt.subplots( nrows=1, ncols=1, figsize=(8, 6)  ) \n",
    "for i in range(3):\n",
    "    if i ==0:\n",
    "        ax1.plot( list_theta, Energies_FCI[:,i], color='red' , label='PySCF (SINGLET ONLY)' ) \n",
    "    else:\n",
    "        ax1.plot( list_theta, Energies_FCI[:,i], color='red'   ) \n",
    "for i in range(3):\n",
    "    if i ==0: \n",
    "        ax1.plot( list_theta, Energies_FCI_me[:,i], color='blue', ls='--' , label='Quant_N_Body package (SINGLET ONLY)'    )  \n",
    "    else:\n",
    "        ax1.plot( list_theta, Energies_FCI_me[:,i], color='blue', ls='--'   ) \n",
    " \n",
    "ax1.grid()\n",
    "\n",
    "ax1.set_ylabel('Energy (Ha)', size=24)\n",
    "ax1.set_xlabel('Angle (rad.)', size=24)\n",
    "ax1.legend(fontsize='large', ncol=1)\n",
    "\n",
    "plt.tight_layout()\n",
    "\n",
    "plt.savefig('PES_H4_ring.pdf')\n",
    "  \n",
    "plt.show()\n",
    " \n",
    " "
   ]
  },
  {
   "cell_type": "markdown",
   "id": "fb06571b",
   "metadata": {
    "slideshow": {
     "slide_type": "slide"
    }
   },
   "source": [
    "## Let's understand what is hidden under the carpet\n",
    "\n",
    "We need first to create a list of state that will define the occupancies of the electrons in the spin-orbitals of the system.\n",
    "\n",
    "### Size of the many-body Fockspace\n",
    "First the size of the many-body Hilbert space follows the binomial term \n",
    "$$\\binom{2N_{MO}}{N_{elec}}$$"
   ]
  },
  {
   "cell_type": "code",
   "execution_count": 17,
   "id": "5c032ced",
   "metadata": {
    "slideshow": {
     "slide_type": "fragment"
    }
   },
   "outputs": [
    {
     "name": "stdout",
     "output_type": "stream",
     "text": [
      "Dimension of the basis : 6 states\n"
     ]
    }
   ],
   "source": [
    "N_MO = N_elec = 2\n",
    "dim_H = math.comb(2 * N_MO, N_elec)\n",
    "\n",
    "print('Dimension of the basis :', dim_H, 'states')"
   ]
  },
  {
   "cell_type": "markdown",
   "id": "1d935d34",
   "metadata": {
    "slideshow": {
     "slide_type": "skip"
    }
   },
   "source": [
    "### Building the list of many-body states (with label $\\kappa$)"
   ]
  },
  {
   "cell_type": "code",
   "execution_count": 18,
   "id": "7868586b",
   "metadata": {
    "slideshow": {
     "slide_type": "skip"
    }
   },
   "outputs": [
    {
     "name": "stdout",
     "output_type": "stream",
     "text": [
      "kappa   fockstate\n",
      "0       [1, 1, 0, 0]\n",
      "1       [1, 0, 1, 0]\n",
      "2       [1, 0, 0, 1]\n",
      "3       [0, 1, 1, 0]\n",
      "4       [0, 1, 0, 1]\n",
      "5       [0, 0, 1, 1]\n"
     ]
    }
   ],
   "source": [
    "list_fockstates = []\n",
    "kappa = 0\n",
    "print('kappa   fockstate')\n",
    "\n",
    "for combination in combinations(range(2 * N_MO), N_elec): #<== Native python combinatorial calculation !!\n",
    "    \n",
    "    fockstate = [0 for i in range(2 * N_MO)]\n",
    "    \n",
    "    for index in list(combination):\n",
    "        fockstate[ index ] += 1\n",
    "        \n",
    "    list_fockstates += [ fockstate ]  \n",
    "    \n",
    "    print(kappa,'     ', fockstate)\n",
    "    kappa += 1\n",
    "     "
   ]
  },
  {
   "cell_type": "markdown",
   "id": "7de7b103",
   "metadata": {
    "slideshow": {
     "slide_type": "subslide"
    }
   },
   "source": [
    "### Function to encode the effects of a creation/annihilation operation\n",
    "\n",
    "The idea here is to create a method that can formally reproduce the effect of the operators $a^\\dagger/a$ over a given many-body state.\n",
    "\n",
    "$$\n",
    "a_{SO}^{\\dagger }|\\cdots ,n_{SO-1},n_{SO},n_{SO+1},\\cdots \\rangle \n",
    "=\n",
    "\\color{red}{\n",
    "(-1)^{\\textstyle\\sum_{SO' <SO } n_{SO' }}}\n",
    "\\sqrt {1-n_{SO}} \\quad  \\color{blue}{|\\cdots ,n_{SO-1 },n_{SO }+1,n_{SO+1 },\\cdots \\rangle}\n",
    "$$\n",
    "\n",
    "This method should then return two things: \n",
    "- $\\color{red}{\\text{a phase factor}}$\n",
    "- $\\color{blue}{\\text{a new many-body state}}$\n",
    "\n",
    "Here is below such a function"
   ]
  },
  {
   "cell_type": "code",
   "execution_count": 19,
   "id": "2dcd5ea8",
   "metadata": {
    "slideshow": {
     "slide_type": "subslide"
    }
   },
   "outputs": [],
   "source": [
    "def new_state_after_SQ_fermi_op( type_of_op, index_mode, ref_fockstate  ):\n",
    "     \n",
    "    new_fockstate = ref_fockstate.copy()\n",
    "    coeff_phase = 1\n",
    "    \n",
    "    if ( type_of_op == 'a' and ref_fockstate[index_mode] == 1 ):  \n",
    "        \n",
    "        new_fockstate[ index_mode ] += -1\n",
    "        \n",
    "        if ( index_mode > 0 ): \n",
    "            \n",
    "            coeff_phase = (-1.) ** np.sum( ref_fockstate[0:index_mode] ) \n",
    "            \n",
    "    elif ( type_of_op == 'a^' and ref_fockstate[index_mode] == 0): \n",
    "        new_fockstate[ index_mode ] += 1\n",
    "        if ( index_mode > 0 ):\n",
    "            coeff_phase = (-1.) ** np.sum( ref_fockstate[0:index_mode] )  \n",
    "    else:\n",
    "        print(' ERROR !! Not a state !!! ')\n",
    "        new_fockstate, coeff_phase = 0, 0\n",
    "        \n",
    "    return new_fockstate, coeff_phase"
   ]
  },
  {
   "cell_type": "markdown",
   "id": "e772f666",
   "metadata": {
    "slideshow": {
     "slide_type": "subslide"
    }
   },
   "source": [
    "\n",
    "### Little illustration with the initial state $| 1100\\rangle$. \n",
    "\n",
    "We first check the effect of $ a^\\dagger_{1,\\uparrow} | 1100\\rangle$.\n",
    "\n",
    "Here, note that the spin-orbital label is translated $(1,\\uparrow) \\longrightarrow 2*index_{MO} = 2$"
   ]
  },
  {
   "cell_type": "code",
   "execution_count": 20,
   "id": "ab64c36f",
   "metadata": {
    "slideshow": {
     "slide_type": "fragment"
    }
   },
   "outputs": [
    {
     "name": "stdout",
     "output_type": "stream",
     "text": [
      "Initial state    [1, 1, 0, 0]\n",
      "Final state    1.0  x  [1, 1, 1, 0]\n"
     ]
    }
   ],
   "source": [
    "TEST_WFT = [ 1, 1, 0, 0 ]\n",
    "\n",
    "new_fockstate, coeff_phase =  new_state_after_SQ_fermi_op ( type_of_op    ='a^',\n",
    "                                                            index_mode    = 2,\n",
    "                                                            ref_fockstate = TEST_WFT)\n",
    "print( 'Initial state   ', TEST_WFT)\n",
    "print( 'Final state   ', coeff_phase, ' x ', new_fockstate)"
   ]
  },
  {
   "cell_type": "markdown",
   "id": "6f9f18d8",
   "metadata": {
    "slideshow": {
     "slide_type": "subslide"
    }
   },
   "source": [
    "### Building the operators $a^\\dagger_{p,\\sigma} a_{q,\\sigma}$\n",
    "\n",
    "As stated earlier, the key elements to build all important matrices (Hamiltonian, RDMs ...) are the $a^\\dagger_{p,\\sigma} a_{q,\\sigma}$ operators. We need here to encode the matrix representation of these operators in the many-body basis such that\n",
    "\n",
    "$$ a^\\dagger_{p,\\sigma} a_{q,\\sigma} = \\sum_{\\kappa, \\kappa' \n",
    " =1}^{\\dim_H}  \\langle \\kappa' | a^\\dagger_{p,\\sigma} a_{q,\\sigma} | \\kappa  \\rangle  \\; | \\kappa'    \\rangle\\langle \\kappa |  $$\n",
    "\n",
    "To do so, we have to check how each operator act on an initial state to obtain a mapping in the many-body basis. In other words, we have to do as follows : \n",
    "\n",
    "$$ a^\\dagger_{p,\\sigma} a_{q,\\sigma} |\\kappa \\rangle = |\\kappa' \\rangle $$\n",
    "\n",
    "and check what is the final state $| \\kappa' \\rangle$"
   ]
  },
  {
   "cell_type": "markdown",
   "id": "6b178dcf",
   "metadata": {
    "slideshow": {
     "slide_type": "subslide"
    }
   },
   "source": [
    "**How to do that ?**\n",
    "\n",
    "- Go through the list of many-body states $|\\kappa \\rangle$\n",
    "- For each $|\\kappa \\rangle$, compute the action of $ a_{q,\\sigma}$ and then $a^\\dagger_{p,\\sigma}$ which returns two phases $p1$ and $p2$ and a final state $|\\kappa ' \\rangle$ \n",
    "\n",
    "- Find in the original list of many-body state which index $\\kappa'$ refers to the final state $|\\kappa ' \\rangle$ \n",
    "\n",
    "- Write the matrix element  $\\langle\\kappa' |a^\\dagger_{p,\\sigma} a_{q,\\sigma} |\\kappa \\rangle = p1 \\times p2$\n",
    "\n",
    "And that's it !"
   ]
  },
  {
   "cell_type": "code",
   "execution_count": 21,
   "id": "78440d5a",
   "metadata": {
    "slideshow": {
     "slide_type": "subslide"
    }
   },
   "outputs": [],
   "source": [
    "a_dagger_a = np.zeros((2*N_MO, 2*N_MO), dtype=object)\n",
    "for p in range(2*N_MO):\n",
    "    for q in range(2*N_MO): \n",
    "        a_dagger_a[p,q] = scipy.sparse.lil_matrix(( dim_H, dim_H ))\n",
    "\n",
    "for kappa in range(dim_H):  \n",
    "    \n",
    "    ref_state = list_fockstates[ kappa ]\n",
    "    \n",
    "    for q in range(2*N_MO):\n",
    "        if ( ref_state[q] == 0 ): continue\n",
    "        state_one, p1 = new_state_after_SQ_fermi_op('a', q,  ref_state)  \n",
    "        \n",
    "        for p in range(2*N_MO):  \n",
    "            if ( state_one[p] == 1 ): continue\n",
    "            state_two, p2 = new_state_after_SQ_fermi_op('a^', p,  state_one)  \n",
    "            \n",
    "            kappa_ = list_fockstates.index( state_two ) # <=== Find the element kappa' in the list of MBstates\n",
    "            \n",
    "            a_dagger_a[p,q][kappa_,kappa] = p1 * p2"
   ]
  },
  {
   "cell_type": "markdown",
   "id": "2212f3f8",
   "metadata": {
    "slideshow": {
     "slide_type": "subslide"
    }
   },
   "source": [
    "### Building the hamiltonian\n",
    "In a more general basis, which is not necessarily composed of local orbitals, the same hamiltonian reads\n",
    "\n",
    "$$   \n",
    "\\hat{H} =\\sum_{\\langle p,q \\rangle}^{N_{MO}} -h_{pq} \\sum_{\\sigma=\\uparrow,\\downarrow} (\\hat{a}^\\dagger_{p,\\sigma}\\hat{a}_{q,\\sigma}+\\hat{a}^\\dagger_{q,\\sigma}\\hat{a}_{p,\\sigma}) + \\sum_i^{N_{MO}} U_{p,q,r,s} \\hat{a}^\\dagger_{p,\\uparrow}\\hat{a}_{q,\\uparrow} \\hat{a}^\\dagger_{r,\\downarrow}\\hat{a}_{s,\\downarrow} \n",
    " $$"
   ]
  },
  {
   "cell_type": "code",
   "execution_count": 22,
   "id": "5d7b887e",
   "metadata": {
    "slideshow": {
     "slide_type": "fragment"
    }
   },
   "outputs": [],
   "source": [
    "# Building the N-electron Fermi-Hubbard matrix hamiltonian (Sparse)\n",
    "H_Fermi_Hubbard = scipy.sparse.csr_matrix((dim_H, dim_H)) \n",
    "for p in range(N_MO):  \n",
    "    for q in range(N_MO): \n",
    "        \n",
    "        H_Fermi_Hubbard += ( a_dagger_a[2*p,2*q] + a_dagger_a[2*p+1,2*q+1] ) *  h_[p,q]  \n",
    "        \n",
    "        for r in range(N_MO): \n",
    "            for s in range(N_MO):  \n",
    "                \n",
    "                H_Fermi_Hubbard +=  a_dagger_a[2*p,2*q] @ a_dagger_a[2*r+1,2*s+1]  *  U_[p,q,r,s]\n",
    "\n",
    "eig_energies, eig_vectors =  scipy.linalg.eigh(H_Fermi_Hubbard.A) "
   ]
  },
  {
   "cell_type": "code",
   "execution_count": 23,
   "id": "da58f9b4",
   "metadata": {
    "slideshow": {
     "slide_type": "skip"
    }
   },
   "outputs": [
    {
     "name": "stdout",
     "output_type": "stream",
     "text": [
      "  (0, 0)\t-1.0\n",
      "  (0, 2)\t-1.0\n",
      "  (0, 3)\t1.0\n",
      "  (1, 1)\t-3.0\n",
      "  (2, 0)\t-1.0\n",
      "  (2, 2)\t-3.0\n",
      "  (2, 5)\t-1.0\n",
      "  (3, 0)\t1.0\n",
      "  (3, 3)\t-3.0\n",
      "  (3, 5)\t1.0\n",
      "  (4, 4)\t-3.0\n",
      "  (5, 2)\t-1.0\n",
      "  (5, 3)\t1.0\n",
      "  (5, 5)\t-2.0\n"
     ]
    }
   ],
   "source": [
    "print( H_Fermi_Hubbard )"
   ]
  },
  {
   "cell_type": "code",
   "execution_count": 24,
   "id": "10faa173",
   "metadata": {
    "slideshow": {
     "slide_type": "skip"
    }
   },
   "outputs": [
    {
     "name": "stdout",
     "output_type": "stream",
     "text": [
      "[[-1.  0. -1.  1.  0.  0.]\n",
      " [ 0. -3.  0.  0.  0.  0.]\n",
      " [-1.  0. -3.  0.  0. -1.]\n",
      " [ 1.  0.  0. -3.  0.  1.]\n",
      " [ 0.  0.  0.  0. -3.  0.]\n",
      " [ 0.  0. -1.  1.  0. -2.]]\n"
     ]
    }
   ],
   "source": [
    "print( H_Fermi_Hubbard.A )"
   ]
  },
  {
   "cell_type": "markdown",
   "id": "7db685bb",
   "metadata": {
    "slideshow": {
     "slide_type": "subslide"
    }
   },
   "source": [
    "### Let us build the RDMs (spin-free 1RDM and on-site 2-RDM)"
   ]
  },
  {
   "cell_type": "code",
   "execution_count": 25,
   "id": "41871fe2",
   "metadata": {
    "slideshow": {
     "slide_type": "fragment"
    }
   },
   "outputs": [],
   "source": [
    "WFT = eig_vectors[:,0]\n",
    "\n",
    "one_rdm = np.zeros(( N_MO, N_MO ))\n",
    "for p in range(N_MO):\n",
    "    for q in range(N_MO):  \n",
    "        E_pq = a_dagger_a[ 2*p, 2*q ] + a_dagger_a[ 2*p+1, 2*q+1 ]\n",
    "        one_rdm[p,q] = WFT.T @ E_pq @ WFT \n",
    "        \n",
    "two_RDM_FH = np.zeros(( N_MO, N_MO, N_MO, N_MO ))\n",
    "for p in range(N_MO):  \n",
    "    for q in range(N_MO):   \n",
    "        for r in range(N_MO): \n",
    "            for s in range(N_MO):  \n",
    "                two_RDM_FH[p,q,r,s] += (\n",
    "                    WFT.T @ a_dagger_a[2*p,2*q] @ a_dagger_a[2*r+1,2*s+1]  @ WFT )\n",
    " "
   ]
  },
  {
   "cell_type": "markdown",
   "id": "bb86aca5",
   "metadata": {
    "slideshow": {
     "slide_type": "subslide"
    }
   },
   "source": [
    "Let's compute the associated energy\n",
    "\n",
    "$$ E_0 = \\sum_{pq} h_{pq} \\text{1-RDM}_{pq} + \\sum_{pqrs} U_{pqrs} \\text{2-RDM}^{FH}_{pqrs}$$\n",
    "\n",
    "with \n",
    "$$  \\text{1-RDM}_{pq} = \\langle \\Psi_0| \\sum_\\sigma    a^\\dagger_{p,\\sigma}a^\\dagger_{q,\\sigma} | \\Psi_0 \\rangle $$\n",
    "\n",
    "and \n",
    "\n",
    "$$ \\text{2-RDM}_{pqrs}^{FH} = \\langle \\Psi_0| \\hat{a}^\\dagger_{p,\\uparrow}\\hat{a}_{q,\\uparrow} \\hat{a}^\\dagger_{r,\\downarrow}\\hat{a}_{s,\\downarrow} | \\Psi_0 \\rangle $$"
   ]
  },
  {
   "cell_type": "code",
   "execution_count": 26,
   "id": "2d10abc7",
   "metadata": {
    "slideshow": {
     "slide_type": "fragment"
    }
   },
   "outputs": [
    {
     "name": "stdout",
     "output_type": "stream",
     "text": [
      "Energy with Diag. :  -4.414213562373092\n",
      "Energy with RDMs  :  -4.414213562373095\n"
     ]
    }
   ],
   "source": [
    "E_0 = np.einsum('pq,pq', h_, one_rdm) +   np.einsum('pqrs,pqrs', U_ , two_RDM_FH)\n",
    "\n",
    "print( 'Energy with Diag. : ', eig_energies[0] )\n",
    "print( 'Energy with RDMs  : ', E_0 )"
   ]
  },
  {
   "cell_type": "markdown",
   "id": "0c0871a4",
   "metadata": {
    "slideshow": {
     "slide_type": "subslide"
    }
   },
   "source": [
    "## Conclusion : a few lines and we have a Hamiltonian"
   ]
  },
  {
   "cell_type": "code",
   "execution_count": 27,
   "id": "47c5b8a9",
   "metadata": {
    "slideshow": {
     "slide_type": "fragment"
    }
   },
   "outputs": [
    {
     "name": "stdout",
     "output_type": "stream",
     "text": [
      "\n",
      "\t ===========================================\n",
      "\t ====  The matrix form of a^a is built  ====\n",
      "\t ===========================================\n"
     ]
    }
   ],
   "source": [
    "# Setup for the simulation ========\n",
    "N_MO   = N_elec = 2 \n",
    "dim_H = math.comb( 2*N_MO, N_elec ) # Dimension of the many-body space\n",
    "\n",
    "t_  = np.zeros((N_MO,N_MO))\n",
    "U_  = np.zeros((N_MO,N_MO,N_MO,N_MO))\n",
    "Mu_ = np.zeros((N_MO,N_MO)) \n",
    "for i in range(N_MO): \n",
    "    U_[i,i,i,i]  =  1 * (1+i)   # Local coulombic repulsion \n",
    "    Mu_[i,i]     = -1 * (1+i)   # Local chemical potential\n",
    "    \n",
    "    for j in range(i+1,N_MO): \n",
    "        t_[i,j] = t_[j,i] = - 1  # hopping\n",
    "\n",
    "h_ = t_  + np.diag( np.diag(Mu_) ) # Global one-body matrix = hoppings + chemical potentials\n",
    "\n",
    "mol = qnb.Hamiltonian(N_MO, N_elec)\n",
    "mol.build_operator_a_dagger_a()\n",
    "mol.build_hamiltonian_fermi_hubbard(h_, U_)\n",
    "\n",
    "# or alternatively\n",
    "\n",
    "nbody_basis = qnb.tools.build_nbody_basis(N_MO, N_elec)                       # <=== FCT IN THE PACKAGE\n",
    "a_dagger_a  = qnb.tools.build_operator_a_dagger_a(nbody_basis)                # <=== FCT IN THE PACKAGE\n",
    "H           = qnb.tools.build_hamiltonian_fermi_hubbard(h_, U_,  nbody_basis, a_dagger_a) # <=== FCT IN THE PACKAGE\n",
    "\n",
    "# ( ... )"
   ]
  }
 ],
 "metadata": {
  "author": "mes",
  "celltoolbar": "Diaporama",
  "kernelspec": {
   "display_name": "Python 3",
   "language": "python",
   "name": "python3"
  },
  "language_info": {
   "codemirror_mode": {
    "name": "ipython",
    "version": 3
   },
   "file_extension": ".py",
   "mimetype": "text/x-python",
   "name": "python",
   "nbconvert_exporter": "python",
   "pygments_lexer": "ipython3",
   "version": "3.9.7"
  },
  "latex_envs": {
   "LaTeX_envs_menu_present": true,
   "autoclose": false,
   "autocomplete": false,
   "bibliofile": "biblio.bib",
   "cite_by": "apalike",
   "current_citInitial": 1,
   "eqLabelWithNumbers": true,
   "eqNumInitial": 1,
   "hotkeys": {
    "equation": "meta-e"
   },
   "labels_anchors": true,
   "latex_user_defs": false,
   "report_style_numbering": true,
   "user_envs_cfg": true
  },
  "toc": {
   "base_numbering": 1,
   "nav_menu": {},
   "number_sections": true,
   "sideBar": true,
   "skip_h1_title": true,
   "title_cell": "Table of Contents",
   "title_sidebar": "Contents",
   "toc_cell": false,
   "toc_position": {
    "height": "calc(100% - 180px)",
    "left": "10px",
    "top": "150px",
    "width": "348.438px"
   },
   "toc_section_display": true,
   "toc_window_display": true
  }
 },
 "nbformat": 4,
 "nbformat_minor": 5
}
