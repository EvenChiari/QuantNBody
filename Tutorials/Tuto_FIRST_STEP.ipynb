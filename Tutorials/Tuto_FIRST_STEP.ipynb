{
 "cells": [
  {
   "cell_type": "markdown",
   "id": "ba9b3aa1",
   "metadata": {
    "slideshow": {
     "slide_type": "slide"
    }
   },
   "source": [
    "# *QuantNbody* tutorials : first steps with the package\n",
    "\n",
    "**Dr. Saad Yalouz - Laboratoire de Chimie Quantique de Strasbourg, France - July 2022**\n",
    "\n",
    "\n",
    " \n",
    "\n",
    "## Philosophy of the package\n",
    "\n",
    "The philosophy of the **QuantNBody** package is to facilitate the implementation and the manipulation of quantum many-body systems composed of electrons or bosons. To reach this goal, the package has been designed to provide a quick and easy way to build many-body operators and wavefunctions in a given many-body basis. This way it becomes possible to get access in a few python lines to quantities/objects of interest for research and method developements.\n",
    "\n",
    "\n",
    "\n",
    "\n",
    "\n",
    "To proceed, the package works with two fundamental ingredients.\n",
    "\n",
    "A) The first is the **creation of a reference many-body basis** (based on a total number of quantum particles and modes/orbitals to fill) in which every operator can be represented.\n",
    "\n",
    "B) The second is the creation of the set of **hopping operators $a^\\dagger  a$** which are necessary to build any particle-number conserving many-body operator. \n",
    "\n",
    "Once these two ingredients\n",
    "have been created, the user can employ pre-built functions in order to  construct various type of many-body\n",
    "operators (e.g. hamiltonians, spin operators), and manipulate/visualize quantum many-body states. Note that\n",
    "the QuantNBody package has been also designed to provide flexibility to the users so that they can also create their\n",
    "own operators and functions based on the tools already implemented in the code.\n",
    "\n",
    "**Nota Bene:** For sake of simplicity, we will only focus in these tutorials on fermionic systems. "
   ]
  },
  {
   "cell_type": "markdown",
   "id": "bc252c10",
   "metadata": {},
   "source": [
    "## First things first, let us import the package !"
   ]
  },
  {
   "cell_type": "code",
   "execution_count": 1,
   "id": "764f9171",
   "metadata": {},
   "outputs": [],
   "source": [
    "import quantnbody as qnb   # <==== General import \n",
    "\n",
    "import numpy as np"
   ]
  },
  {
   "cell_type": "markdown",
   "id": "708a0483",
   "metadata": {
    "slideshow": {
     "slide_type": "subslide"
    }
   },
   "source": [
    "##  Building a many-body basis\n",
    "\n",
    "To build a many-body basis for a fermionic system, the QuantNBody package generates a list of many-body states which describe the repartition of $N_{elec}$ electrons in $2N_{MO}$ spin-orbitals. These states are numerically referenced by a list of kappa indices such that\n",
    "\n",
    "$$\n",
    "\\Big\\lbrace |\\kappa \\rangle \\Big\\rbrace_{\\textstyle \\kappa=1}^{\\textstyle \\dim_H}\n",
    "$$ \n",
    " \n",
    "The dimension $\\dim_H$ of the many-body basis depends on the number of electron $N_{elec}$ and spatial orbital $N_{MO}$ via a binomial law such that\n",
    "\n",
    "$$\\dim_H = \\binom{2N_{MO}}{N_{elec}}$$\n",
    "\n",
    "**A little example with $N_{MO}=N_{elec}=2$ :** In this case, we should have **6 many-body states.**"
   ]
  },
  {
   "cell_type": "code",
   "execution_count": 15,
   "id": "5d6653ea",
   "metadata": {},
   "outputs": [
    {
     "name": "stdout",
     "output_type": "stream",
     "text": [
      "Shape  of the kappa states\n",
      "| kappa=0 > = [1 1 0 0]\n",
      "| kappa=1 > = [1 0 1 0]\n",
      "| kappa=2 > = [1 0 0 1]\n",
      "| kappa=3 > = [0 1 1 0]\n",
      "| kappa=4 > = [0 1 0 1]\n",
      "| kappa=5 > = [0 0 1 1]\n"
     ]
    }
   ],
   "source": [
    "N_MO = N_elec = 2 # We define the numebr of MO adn electrons\n",
    "\n",
    "nbody_basis = qnb.fermionic.tools.build_nbody_basis( N_MO, N_elec ) # Building the nbody_basis\n",
    "\n",
    "print('Shape  of the kappa states')\n",
    "for s in range(len(nbody_basis)):\n",
    "    print('| kappa={} >'.format(s), '=', nbody_basis[s])"
   ]
  },
  {
   "cell_type": "markdown",
   "id": "65506c8f",
   "metadata": {
    "slideshow": {
     "slide_type": "fragment"
    }
   },
   "source": [
    "**What is the meaning of these six bit strings ?** \n",
    "\n",
    "Here, each bit string represents a many-body state. As an example, let us check the first state for which we have\n",
    "    \n",
    "$$| \\kappa  = 0\\rangle = | \\underbrace{   \\overbrace{1}^{ \\textstyle  {\\alpha}}, \\; \\; \\;\\overbrace{1}^{ \\textstyle  {\\beta}},}_{\\textstyle 1st \\ MO}\\; \\; \\underbrace{\\overbrace{0}^{ \\textstyle  {\\alpha}}, \\; \\; \\; \\overbrace{0}^{ \\textstyle  {\\beta}}}_{\\textstyle 2nd \\ MO} \\rangle$$\n",
    "\n",
    "Here we choose to structure the occupation numbers as follows\n",
    "\n",
    "- Each couple of terms refer to **a same spatial orbital**\n",
    "- **Even** indices refer to **$\\alpha$-spinorbitals**  \n",
    "- **Odd** indices refer to **$\\beta$-spinorbitals**  \n",
    "\n",
    "\n",
    "**IMPORTANT NOTE :**\n",
    "\n",
    "For each configuration, we associate a unique $\\kappa$ index associated to a genuine numerical vector. In practice, any numerical representation of a given many-body operator is numerically given in the basis of $\\kappa$. As an example, let us imagine we want to encode numerically a second quantization operator $O$. This means in practice that we create a matrix representation in the many-body basis such that\n",
    "\n",
    "$$ O = \\sum_{\\kappa, \\kappa' \n",
    " =1}^{\\dim_H}  \\langle \\kappa' | O | \\kappa  \\rangle  \\; | \\kappa'    \\rangle\\langle \\kappa |  $$\n",
    "\n",
    "This work is realized by the QuantNBody package to build every operators we need to descrbie a many-body system."
   ]
  },
  {
   "cell_type": "markdown",
   "id": "2a671bbe",
   "metadata": {},
   "source": [
    "##  Building and storing the $a^\\dagger_{p,\\sigma} a_{q,\\tau}$ operators\n",
    "\n",
    "Once the list of many-body state is obtained, in the **QuantNBody** package a crucial point consist in building the $a^\\dagger_{p,\\sigma} a_{q,\\tau}$ many-body operators. \n",
    "\n",
    "In practice, these operators play a central role in many cases of study as soon as we have to deal with **systems that conserves its total number of particles.** In this case, one can show that many objects (i.e. excitation operators, spin operators, reduced density matrices ...) are built in practice using series of $a^\\dagger_{p,\\sigma} a_{q,\\tau}$ operators.\n",
    "\n",
    "With the QuantNBody package, we build these operators once and for all and store them via a very simple command line. This way we will be able to use them  later on for any type of developments.\n",
    "\n",
    "The command line is simple and only require the list of many-body state we built previously :"
   ]
  },
  {
   "cell_type": "code",
   "execution_count": 3,
   "id": "e4fb70dc",
   "metadata": {},
   "outputs": [],
   "source": [
    "a_dagger_a = qnb.fermionic.tools.build_operator_a_dagger_a( nbody_basis )"
   ]
  },
  {
   "cell_type": "markdown",
   "id": "1795113c",
   "metadata": {},
   "source": [
    "**How to get access to these operators once stored ?**\n",
    "\n",
    "The way each operator is stored follows the way we order the spin-orbitals in our many-body states. As illustrative examles, taking the following elements will return the associated many-body operators :\n",
    "\n",
    "<center>  a_dagger_a[0,0]  $ \\longrightarrow a^\\dagger_{0,\\alpha} a_{0,\\alpha}$ </center>\n",
    "\n",
    "<center>  a_dagger_a[1,0]  $ \\longrightarrow a^\\dagger_{0,\\beta} a_{0,\\alpha}$ </center>\n",
    "\n",
    "<center>  a_dagger_a[10,1]  $ \\longrightarrow a^\\dagger_{5,\\alpha} a_{0,\\beta}$ </center>\n",
    "\n",
    "In practice, the resulting many-body operators we get access to are expressed in the original many-body basis stored under a sparse format. We take the example of the first operator  $  a^\\dagger_{0,\\alpha} a_{0,\\alpha}$ below for which we show the asscociated sparse and dense matrix representation in the many-body basis"
   ]
  },
  {
   "cell_type": "code",
   "execution_count": 4,
   "id": "096cdaf8",
   "metadata": {
    "scrolled": true
   },
   "outputs": [
    {
     "name": "stdout",
     "output_type": "stream",
     "text": [
      "Sparse representation of a_dagger_a[0,0]\n",
      "  (0, 0)\t1.0\n",
      "  (1, 1)\t1.0\n",
      "  (2, 2)\t1.0\n",
      "\n",
      "Dense representation of a_dagger_a[0,0]\n",
      "[[1. 0. 0. 0. 0. 0.]\n",
      " [0. 1. 0. 0. 0. 0.]\n",
      " [0. 0. 1. 0. 0. 0.]\n",
      " [0. 0. 0. 0. 0. 0.]\n",
      " [0. 0. 0. 0. 0. 0.]\n",
      " [0. 0. 0. 0. 0. 0.]]\n"
     ]
    }
   ],
   "source": [
    "print(  \"Sparse representation of a_dagger_a[0,0]\" )\n",
    "print( a_dagger_a[0,0] )\n",
    "\n",
    "print( )\n",
    "print( \"Dense representation of a_dagger_a[0,0]\" )\n",
    "print( a_dagger_a[0,0].A )"
   ]
  },
  {
   "cell_type": "markdown",
   "id": "233ab6d0",
   "metadata": {},
   "source": [
    "We see here that this operator simpy counts the number of electrons in the first spin-orbital explaining why we only have ones on the three first elements of the diagonal (see the shape of the three many-body states given ealrier to understand)"
   ]
  },
  {
   "cell_type": "markdown",
   "id": "acfadd1b",
   "metadata": {
    "slideshow": {
     "slide_type": "slide"
    }
   },
   "source": [
    "\n",
    "## Building our first many-body Hamiltonian : fermi-Hubbard molecule \n",
    "\n",
    "In this final part of the tutorial we will use the previously built a_dagger_a variable to implement a fermi-Hubbard molecule. In the local site basis, the model Hamiltonian is usually expressed such that:\n",
    "\n",
    "$$ \n",
    "\\hat{H} = \\color{blue}{\\sum_{\\langle i,j \\rangle}^{N_{MO}} -t_{ij} \\sum_{\\sigma=\\uparrow,\\downarrow} (\\hat{a}^\\dagger_{j,\\sigma}\\hat{a}_{i,\\sigma}+\\hat{a}^\\dagger_{i,\\sigma}\\hat{a}_{j,\\sigma})} \n",
    "+ \\color{red}{\\sum_i^{N_{MO}} \\mu_{ii} \\sum_{\\sigma=\\uparrow,\\downarrow} \\hat{a}^\\dagger_{i,\\sigma}\\hat{a}_{i,\\sigma} }\n",
    "+ \\color{black}{\n",
    "\\sum_i^{N_{MO}} U_{iiii} \\hat{a}^\\dagger_{i,\\uparrow}\\hat{a}_{i,\\uparrow} \\hat{a}^\\dagger_{i,\\downarrow}\\hat{a}_{i,\\downarrow} \n",
    "}\n",
    "$$\n",
    "\n",
    "with :\n",
    "- <font color='blue'> $t_{ij}$ the hopping terms between the pair of connected sites $\\langle i, j \\rangle$.  \n",
    "- <font color='red'> $\\mu_{ii}$ the local chemical potential on site \"$i$\".\n",
    "- <font color='black'> $U_{iiii}$ the local coulombic repulsion on site \"$i$\".\n",
    "    \n",
    "    We illustrate the shape of the system below\n",
    " \n",
    "    <img src=\"graph.png\" width=\"400\"  style=\"margin:auto\"/>\n",
    "    \n",
    " In a more general basis (not necessarily local) we have\n",
    "$$   \n",
    "\\hat{H} =\\sum_{\\langle p,q \\rangle}^{N_{MO}} -h_{pq} \\sum_{\\sigma=\\uparrow,\\downarrow} (\\hat{a}^\\dagger_{p,\\sigma}\\hat{a}_{q,\\sigma}+\\hat{a}^\\dagger_{q,\\sigma}\\hat{a}_{p,\\sigma}) + \\sum_i^{N_{MO}} U_{p,q,r,s} \\hat{a}^\\dagger_{p,\\uparrow}\\hat{a}_{q,\\uparrow} \\hat{a}^\\dagger_{r,\\downarrow}\\hat{a}_{s,\\downarrow} \n",
    " $$\n",
    "where for commodity we have introduced the one-body integral term $h_{pq}$ which embed the hopping terms and the chemical potentials such as\n",
    "$$\n",
    "h_{pq} = \\sum_{i,j}^{N_{MO}} (-t_{ij} + \\delta_{ij}\\mu_{ii}) C_{i,p} C_{j,q} \n",
    "$$\n",
    "and the \"delocalized version\" of the coulombic repulsion term\n",
    "$$\n",
    "U_{pqrs} = \\sum_{i}^{N_{MO}}  U_{i,i,i,i} C_{i,p} C_{i,q} C_{i,r} C_{i,s}\n",
    "$$\n",
    "where the matrix ${\\bf C}$ encodes the Molecular Orbital coefficient if we want for example to express the Hamiltonian in a delocalized basis."
   ]
  },
  {
   "cell_type": "markdown",
   "id": "255a78dd",
   "metadata": {
    "slideshow": {
     "slide_type": "subslide"
    }
   },
   "source": [
    "\n",
    "\n",
    "**Building the Hamiltonian :** To initiate construction of the matrix representation of the operator in the many-body basis, we first define the hopping between the sites $t$, the chemical potentials $\\mu$ and the electronic repulsion $U$."
   ]
  },
  {
   "cell_type": "code",
   "execution_count": 5,
   "id": "9c57b5c8",
   "metadata": {
    "scrolled": true,
    "slideshow": {
     "slide_type": "subslide"
    }
   },
   "outputs": [
    {
     "name": "stdout",
     "output_type": "stream",
     "text": [
      "t_=\n",
      " [[ 0. -1.]\n",
      " [-1.  0.]] \n",
      "\n",
      "Mu_=\n",
      " [[-1.  0.]\n",
      " [ 0. -2.]] \n",
      "\n",
      "h_=\n",
      " [[-1. -1.]\n",
      " [-1. -2.]] \n",
      "\n"
     ]
    }
   ],
   "source": [
    "# Setup for the simulation ========\n",
    "N_MO   = N_elec = 2  \n",
    "t_  = np.zeros((N_MO,N_MO))\n",
    "U_  = np.zeros((N_MO,N_MO,N_MO,N_MO))\n",
    "Mu_ = np.zeros((N_MO,N_MO)) \n",
    "for i in range(N_MO): \n",
    "    U_[i,i,i,i]  =  1 * (1+i)  # Local coulombic repulsion \n",
    "    Mu_[i,i]     = -1 * (1+i)  # Local chemical potential\n",
    "    \n",
    "    for j in range(i+1,N_MO): \n",
    "        t_[i,j] = t_[j,i] = - 1  # hopping\n",
    "\n",
    "h_ = t_  + np.diag( np.diag(Mu_) ) # Global one-body matrix = hoppings + chemical potentials\n",
    "\n",
    "print( 't_=\\n',t_ ,'\\n')\n",
    "\n",
    "print( 'Mu_=\\n',Mu_ ,'\\n')\n",
    "\n",
    "print( 'h_=\\n',h_ ,'\\n')"
   ]
  },
  {
   "cell_type": "markdown",
   "id": "0e89bd78",
   "metadata": {
    "slideshow": {
     "slide_type": "subslide"
    }
   },
   "source": [
    "To build the Hamiltonian, we simply have to pass three ingredients to the an already built function:\n",
    "- Parameters of the model\n",
    "- The Many-body basis\n",
    "- The $a^\\dagger a $ operators\n",
    "\n",
    "as shown below"
   ]
  },
  {
   "cell_type": "code",
   "execution_count": 6,
   "id": "76341744",
   "metadata": {
    "slideshow": {
     "slide_type": "fragment"
    }
   },
   "outputs": [],
   "source": [
    "H_fermi_hubbard = qnb.fermionic.tools.build_hamiltonian_fermi_hubbard( h_,\n",
    "                                                                       U_,\n",
    "                                                                       nbody_basis,\n",
    "                                                                       a_dagger_a )"
   ]
  },
  {
   "cell_type": "markdown",
   "id": "9532ab71",
   "metadata": {},
   "source": [
    "Similarily to the $a^\\dagger_{p,\\sigma} a_{q,\\sigma} $ operator, the Hamiltonian $H$ is represented in the many-body basis with a native sparse representation (which can be made dense):"
   ]
  },
  {
   "cell_type": "code",
   "execution_count": 7,
   "id": "24c617cb",
   "metadata": {
    "slideshow": {
     "slide_type": "fragment"
    }
   },
   "outputs": [
    {
     "name": "stdout",
     "output_type": "stream",
     "text": [
      "H (SPARSE) =\n",
      "  (0, 0)\t-1.0\n",
      "  (0, 2)\t-1.0\n",
      "  (0, 3)\t1.0\n",
      "  (1, 1)\t-3.0\n",
      "  (2, 0)\t-1.0\n",
      "  (2, 2)\t-3.0\n",
      "  (2, 5)\t-1.0\n",
      "  (3, 0)\t1.0\n",
      "  (3, 3)\t-3.0\n",
      "  (3, 5)\t1.0\n",
      "  (4, 4)\t-3.0\n",
      "  (5, 2)\t-1.0\n",
      "  (5, 3)\t1.0\n",
      "  (5, 5)\t-2.0\n",
      "\n",
      "H (DENSE) =\n",
      "[[-1.  0. -1.  1.  0.  0.]\n",
      " [ 0. -3.  0.  0.  0.  0.]\n",
      " [-1.  0. -3.  0.  0. -1.]\n",
      " [ 1.  0.  0. -3.  0.  1.]\n",
      " [ 0.  0.  0.  0. -3.  0.]\n",
      " [ 0.  0. -1.  1.  0. -2.]]\n"
     ]
    }
   ],
   "source": [
    "print('H (SPARSE) =' )\n",
    "print(H_fermi_hubbard)\n",
    "\n",
    "print()\n",
    "print('H (DENSE) =' )\n",
    "print(H_fermi_hubbard.A)"
   ]
  },
  {
   "cell_type": "markdown",
   "id": "a6c100ab",
   "metadata": {
    "slideshow": {
     "slide_type": "subslide"
    }
   },
   "source": [
    "Once $H$ is built, we can diagonalize the resulting matrix."
   ]
  },
  {
   "cell_type": "code",
   "execution_count": 8,
   "id": "e323f09d",
   "metadata": {
    "slideshow": {
     "slide_type": "fragment"
    }
   },
   "outputs": [
    {
     "name": "stdout",
     "output_type": "stream",
     "text": [
      "Energies = [-4.41421356 -3.         -3.         -3.        ]\n"
     ]
    }
   ],
   "source": [
    "eig_energies, eig_vectors =  np.linalg.eigh(H_fermi_hubbard.A)\n",
    "\n",
    "print('Energies =', eig_energies[:4] )"
   ]
  },
  {
   "cell_type": "markdown",
   "id": "1a9e048b",
   "metadata": {},
   "source": [
    "And finally, we can call a very usefull function from the QuantNBody package that help visualizing the shape of a  wavefunction as shown below. This function lists the most important many-body state contributing to the wavefunction with the associated coefficients in front."
   ]
  },
  {
   "cell_type": "code",
   "execution_count": 9,
   "id": "887339e3",
   "metadata": {
    "scrolled": true,
    "slideshow": {
     "slide_type": "fragment"
    }
   },
   "outputs": [
    {
     "name": "stdout",
     "output_type": "stream",
     "text": [
      "\n",
      "\t-----------\n",
      "\t Coeff.      N-body state\n",
      "\t-------     -------------\n",
      "\t-0.57454\t|0110⟩\n",
      "\t+0.57454\t|1001⟩\n",
      "\t+0.47596\t|0011⟩\n",
      "\t+0.33656\t|1100⟩\n",
      "\n",
      "\n"
     ]
    }
   ],
   "source": [
    "WFT_to_analyse = eig_vectors[:,0]\n",
    "\n",
    "# Visualizing the groundstate in the many-body basis\n",
    "qnb.fermionic.tools.visualize_wft( WFT_to_analyse, nbody_basis ) # <=== FCT IN THE PACKAGE\n",
    "print()"
   ]
  },
  {
   "cell_type": "code",
   "execution_count": null,
   "id": "f66a0bfc",
   "metadata": {},
   "outputs": [],
   "source": []
  }
 ],
 "metadata": {
  "author": "mes",
  "celltoolbar": "Diaporama",
  "kernelspec": {
   "display_name": "Python [conda env:myenv]",
   "language": "python",
   "name": "conda-env-myenv-py"
  },
  "language_info": {
   "codemirror_mode": {
    "name": "ipython",
    "version": 3
   },
   "file_extension": ".py",
   "mimetype": "text/x-python",
   "name": "python",
   "nbconvert_exporter": "python",
   "pygments_lexer": "ipython3",
   "version": "3.9.12"
  },
  "latex_envs": {
   "LaTeX_envs_menu_present": true,
   "autoclose": false,
   "autocomplete": false,
   "bibliofile": "biblio.bib",
   "cite_by": "apalike",
   "current_citInitial": 1,
   "eqLabelWithNumbers": true,
   "eqNumInitial": 1,
   "hotkeys": {
    "equation": "meta-e"
   },
   "labels_anchors": true,
   "latex_user_defs": false,
   "report_style_numbering": true,
   "user_envs_cfg": true
  },
  "toc": {
   "base_numbering": 1,
   "nav_menu": {},
   "number_sections": true,
   "sideBar": true,
   "skip_h1_title": true,
   "title_cell": "Table of Contents",
   "title_sidebar": "Contents",
   "toc_cell": false,
   "toc_position": {
    "height": "calc(100% - 180px)",
    "left": "10px",
    "top": "150px",
    "width": "348.438px"
   },
   "toc_section_display": true,
   "toc_window_display": true
  }
 },
 "nbformat": 4,
 "nbformat_minor": 5
}
