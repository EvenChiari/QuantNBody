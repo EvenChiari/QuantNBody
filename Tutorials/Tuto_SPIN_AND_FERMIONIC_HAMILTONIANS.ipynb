{
 "cells": [
  {
   "cell_type": "markdown",
   "id": "3d5ae8a5",
   "metadata": {
    "slideshow": {
     "slide_type": "slide"
    }
   },
   "source": [
    "# *QuantNbody* tutorials : spin operators and fermionic Hamiltonians \n",
    "\n",
    "**Dr. Saad Yalouz**\n",
    "\n",
    "**Laboratoire de Chimie Quantique de Strasbourg, France**\n",
    "\n",
    "**July 2022**"
   ]
  },
  {
   "cell_type": "markdown",
   "id": "4888eb48",
   "metadata": {
    "slideshow": {
     "slide_type": "slide"
    }
   },
   "source": [
    "In this QuantNBody tutorial, we will focus on the construction of spin operators like $S_2$ and $S_z$ and ab initio electronic structure Hamiltonians $H$. We will show how easily we can build these operators and use them practically.\n",
    "\n",
    "Let us first import our package and some additional libraries"
   ]
  },
  {
   "cell_type": "code",
   "execution_count": 15,
   "id": "4ab32d7c",
   "metadata": {},
   "outputs": [],
   "source": [
    "import quantnbody as qnb\n",
    "import numpy as np\n",
    "import scipy\n",
    "import pyscf"
   ]
  },
  {
   "cell_type": "markdown",
   "id": "708a0483",
   "metadata": {
    "slideshow": {
     "slide_type": "subslide"
    }
   },
   "source": [
    "## Electronic strcuture Hamiltonian\n",
    "\n",
    "The ab initio electronic structure Hamiltonian describes how a collection of $N_e$ electrons rearrange around a set of positively charged nuclei in a molecule. This operator is defined like:\n",
    "\n",
    "$$ H = \\sum_{p,q} h_{pq} \\hat{E}_{pq} + \\frac{1}{2} \\sum_{pqrs} g_{pqrs} \\hat{e}_{pqrs} + \\mathcal{E}_{nuc.\\ rep.}$$\n",
    "\n",
    "where we have the one- and two-electron integrals $h_{pq}$ and $g_{pqrs}$ (and the nuclear repulsion energy $\\mathcal{E}_{nuc.\\ rep.}$) associated to the one- and two-electron spin-free excitation operators defined like\n",
    "\n",
    "$$ E_{pq} = \\sum_\\sigma a^\\dagger_{p,\\sigma}a_{q,\\sigma} $$\n",
    "\n",
    "and \n",
    "\n",
    "$$ e_{pqrs} = E_{pq}E_{rs} - \\delta_{rs} E_{ps} .$$\n",
    "\n",
    "Here again, we see that all these operators can be defined in terms of the $a_{p,\\sigma}^\\dagger a_{q,\\tau}$ operators. \n",
    "\n",
    "Below we show how to create such Hamiltonian for the $H_4$ molecule in the STO-3G basis, and how to compute a ground state potential energy surface easily. In this case, we need to get access to the electronci integrals of the system. We use for this PySCF but note that Psi4 could have been used too !\n",
    "\n",
    "First we build the essential many-body basis and a_Dagger_a operators"
   ]
  },
  {
   "cell_type": "code",
   "execution_count": 18,
   "id": "0c2f0199",
   "metadata": {},
   "outputs": [],
   "source": [
    "N_elec = N_MO = 4 # Number of MOs and electrons in the system\n",
    "\n",
    "nbody_basis = qnb.fermionic.tools.build_nbody_basis( N_MO, N_elec ) \n",
    "a_dagger_a  = qnb.fermionic.tools.build_operator_a_dagger_a( nbody_basis )  "
   ]
  },
  {
   "cell_type": "markdown",
   "id": "ae891456",
   "metadata": {},
   "source": [
    "Then we can build the PES of the molecule with a loop"
   ]
  },
  {
   "cell_type": "code",
   "execution_count": 11,
   "id": "e54696c6",
   "metadata": {},
   "outputs": [
    {
     "ename": "AttributeError",
     "evalue": "module 'quantnbody' has no attribute 'Hamiltonian'",
     "output_type": "error",
     "traceback": [
      "\u001b[0;31m---------------------------------------------------------------------------\u001b[0m",
      "\u001b[0;31mAttributeError\u001b[0m                            Traceback (most recent call last)",
      "Input \u001b[0;32mIn [11]\u001b[0m, in \u001b[0;36m<cell line: 8>\u001b[0;34m()\u001b[0m\n\u001b[1;32m      4\u001b[0m E_FCI_me \u001b[38;5;241m=\u001b[39m []\n\u001b[1;32m      6\u001b[0m N_elec \u001b[38;5;241m=\u001b[39m N_MO \u001b[38;5;241m=\u001b[39m \u001b[38;5;241m4\u001b[39m \n\u001b[0;32m----> 8\u001b[0m mol_qnb \u001b[38;5;241m=\u001b[39m \u001b[43mqnb\u001b[49m\u001b[38;5;241;43m.\u001b[39;49m\u001b[43mHamiltonian\u001b[49m(N_MO, N_elec)\n\u001b[1;32m     10\u001b[0m MAX_ROOT \u001b[38;5;241m=\u001b[39m \u001b[38;5;241m15\u001b[39m\n\u001b[1;32m     12\u001b[0m dim_parameter \u001b[38;5;241m=\u001b[39m \u001b[38;5;28mlen\u001b[39m(list_theta)\n",
      "\u001b[0;31mAttributeError\u001b[0m: module 'quantnbody' has no attribute 'Hamiltonian'"
     ]
    }
   ],
   "source": [
    "list_theta = np.linspace(num = 30, start=20. * np.pi/180., stop=160. * np.pi/180., endpoint=True) \n",
    "E_HF  = []\n",
    "E_FCI = []\n",
    "E_FCI_me = []\n",
    "\n",
    "dim_parameter = len(list_theta)\n",
    "Energies_FCI    = np.zeros((dim_parameter,MAX_ROOT))\n",
    "Energies_FCI_me = np.zeros((dim_parameter,dim_H)) \n",
    "\n",
    "elem = 0\n",
    "for theta in tqdm(list_theta, file=sys.stdout): \n",
    "    r = 1.\n",
    "     \n",
    "    XYZ_geometry = \"\"\" H   {0}   {1}  0.\n",
    "                       H   {0}  -{1}  0. \n",
    "                       H  -{0}   {1}  0.\n",
    "                       H  -{0}  -{1}  0.  \"\"\".format( r*np.cos(theta/2.), r*np.sin(theta/2.) ) \n",
    "     \n",
    "    mol = gto.Mole()\n",
    "    mol.build( atom     = XYZ_geometry,  # in Angstrom\n",
    "               basis    = 'STO-3G',\n",
    "               symmetry = False,\n",
    "               spin     = 0 )\n",
    "\n",
    "    mf = scf.RHF(mol)\n",
    "    print('      ', end='')\n",
    "    mf.kernel() \n",
    "    FCI_solver = pyscf.fci.FCI( mf, mf.mo_coeff  )  \n",
    "    FCI_solver = fci.addons.fix_spin_(FCI_solver, ss=0, shift=10 ) \n",
    "    \n",
    "    FCI_solver.nroots = MAX_ROOT\n",
    "    E_FCI_pyscf, Wfn_FCI = FCI_solver.kernel()           \n",
    "    h_MO = np.einsum('pi,pq,qj->ij', mf.mo_coeff,\n",
    "                           mol.intor_symmetric('int1e_kin') + mol.intor_symmetric('int1e_nuc'),\n",
    "                           mf.mo_coeff) \n",
    "    g_MO  = ao2mo.kernel( mol, mf.mo_coeff )\n",
    "    g_MO  = ao2mo.restore('s1', g_MO, N_MO)\n",
    " \n",
    "\n",
    "    E_rep_nuc = mol.energy_nuc()                  # Nuclei repuslion energy\n",
    " \n",
    "    mol_qnb.build_hamiltonian_quantum_chemistry(h_MO, g_MO)  \n",
    "    eig_energies, eig_vectors =  np.linalg.eigh(mol_qnb.H.A) \n",
    "    E_FCI_me += [ E_rep_nuc + eig_energies[0] ]\n",
    "    \n",
    "    Energies_FCI_me[elem,:] = [ E_rep_nuc + eig_energies[p]  for p in range(dim_H) ] \n",
    "    \n",
    "    Energies_FCI[elem,:] = E_FCI_pyscf\n",
    "    \n",
    "    elem += 1 "
   ]
  },
  {
   "cell_type": "markdown",
   "id": "db9090e5",
   "metadata": {
    "slideshow": {
     "slide_type": "subslide"
    }
   },
   "source": [
    "## Applying excitations to a state   \n",
    "\n",
    "In this final part we show the effect of applying excitations to a reference wavefunction. For this, we will consider implementing a singlet excitation over an initial configuration to produce the final state\n",
    "\n",
    "$$ | \\Psi \\rangle = (a^\\dagger_{3,\\alpha}a_{2,\\alpha} + a^\\dagger_{3,\\beta}a_{2,\\beta})| 11110000\\rangle / \\sqrt{2} $$\n",
    "\n",
    "This is very easy to implement with the QuantNBody package. In this case, as shown below, the second quantization algebra can be very straightforwardly implemented in a few line of python code !"
   ]
  },
  {
   "cell_type": "code",
   "execution_count": 8,
   "id": "82e4b7b7",
   "metadata": {},
   "outputs": [
    {
     "name": "stdout",
     "output_type": "stream",
     "text": [
      "\n",
      "\t-----------\n",
      "\t Coeff.      N-body state\n",
      "\t-------     -------------\n",
      "\t-0.70711\t|11011000⟩\n",
      "\t+0.70711\t|11100100⟩\n",
      "\n",
      "\n"
     ]
    }
   ],
   "source": [
    "# We first translate the occupation number config into the many-body basis of kappa vectors\n",
    "initial_config_occ_number = [ 1, 1, 1, 1, 0, 0, 0, 0 ]\n",
    "initial_config = qnb.fermionic.tools.my_state( initial_config_occ_number, nbody_basis)\n",
    "\n",
    "# Then we build the excitation operator\n",
    "Excitation_op = (a_dagger_a[4,2] + a_dagger_a[5,3]) / np.sqrt(2)\n",
    "\n",
    "# We apply the excitation on the intial state and store it into a Psi WFT\n",
    "Psi = Excitation_op  @ initial_config\n",
    "\n",
    "# We visualize the final wavefunction\n",
    "qnb.fermionic.tools.visualize_wft(Psi,nbody_basis)\n",
    "print()"
   ]
  }
 ],
 "metadata": {
  "author": "mes",
  "celltoolbar": "Diaporama",
  "kernelspec": {
   "display_name": "Python [conda env:myenv]",
   "language": "python",
   "name": "conda-env-myenv-py"
  },
  "language_info": {
   "codemirror_mode": {
    "name": "ipython",
    "version": 3
   },
   "file_extension": ".py",
   "mimetype": "text/x-python",
   "name": "python",
   "nbconvert_exporter": "python",
   "pygments_lexer": "ipython3",
   "version": "3.9.12"
  },
  "latex_envs": {
   "LaTeX_envs_menu_present": true,
   "autoclose": false,
   "autocomplete": false,
   "bibliofile": "biblio.bib",
   "cite_by": "apalike",
   "current_citInitial": 1,
   "eqLabelWithNumbers": true,
   "eqNumInitial": 1,
   "hotkeys": {
    "equation": "meta-e"
   },
   "labels_anchors": true,
   "latex_user_defs": false,
   "report_style_numbering": true,
   "user_envs_cfg": true
  },
  "toc": {
   "base_numbering": 1,
   "nav_menu": {},
   "number_sections": true,
   "sideBar": true,
   "skip_h1_title": true,
   "title_cell": "Table of Contents",
   "title_sidebar": "Contents",
   "toc_cell": false,
   "toc_position": {
    "height": "calc(100% - 180px)",
    "left": "10px",
    "top": "150px",
    "width": "348.438px"
   },
   "toc_section_display": true,
   "toc_window_display": true
  }
 },
 "nbformat": 4,
 "nbformat_minor": 5
}
