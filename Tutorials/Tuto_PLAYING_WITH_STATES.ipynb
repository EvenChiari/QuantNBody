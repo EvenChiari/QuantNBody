{
 "cells": [
  {
   "cell_type": "markdown",
   "id": "3d5ae8a5",
   "metadata": {
    "slideshow": {
     "slide_type": "slide"
    }
   },
   "source": [
    "# *QuantNbody* tutorials : playing with many-body wavefunctions\n",
    "\n",
    "**Dr. Saad Yalouz**\n",
    "\n",
    "**Laboratoire de Chimie Quantique de Strasbourg, France**\n",
    "\n",
    "**July 2022**"
   ]
  },
  {
   "cell_type": "markdown",
   "id": "4888eb48",
   "metadata": {
    "slideshow": {
     "slide_type": "slide"
    }
   },
   "source": [
    "In this second QuantNBody tutorial we will focus on the manipulation of states with different illustrative examples.  For this we will consider a system composed of $N_e=4$ electron in $N_{MO} = 4$ molecular orbitals (so 8 spin orbitals in total). We first import the package and then define these properties"
   ]
  },
  {
   "cell_type": "code",
   "execution_count": 1,
   "id": "4ab32d7c",
   "metadata": {},
   "outputs": [],
   "source": [
    "import quantnbody as qnb\n",
    "import numpy as np\n",
    "import scipy\n",
    "\n",
    "N_MO = N_elec = 4 # Number of MOs and electrons in the system"
   ]
  },
  {
   "cell_type": "markdown",
   "id": "708a0483",
   "metadata": {
    "slideshow": {
     "slide_type": "subslide"
    }
   },
   "source": [
    "## Building the essential :  the many-body basis and the $a^\\dagger_{p,\\sigma} a_{q,\\tau}$ operators"
   ]
  },
  {
   "cell_type": "code",
   "execution_count": 2,
   "id": "6b5c50f8",
   "metadata": {},
   "outputs": [
    {
     "name": "stdout",
     "output_type": "stream",
     "text": [
      "The many-body basis\n",
      "[[1 1 1 1 0 0 0 0]\n",
      " [1 1 1 0 1 0 0 0]\n",
      " [1 1 1 0 0 1 0 0]\n",
      " [1 1 1 0 0 0 1 0]\n",
      " [1 1 1 0 0 0 0 1]\n",
      " [1 1 0 1 1 0 0 0]\n",
      " [1 1 0 1 0 1 0 0]\n",
      " [1 1 0 1 0 0 1 0]\n",
      " [1 1 0 1 0 0 0 1]\n",
      " [1 1 0 0 1 1 0 0]\n",
      " [1 1 0 0 1 0 1 0]\n",
      " [1 1 0 0 1 0 0 1]\n",
      " [1 1 0 0 0 1 1 0]\n",
      " [1 1 0 0 0 1 0 1]\n",
      " [1 1 0 0 0 0 1 1]\n",
      " [1 0 1 1 1 0 0 0]\n",
      " [1 0 1 1 0 1 0 0]\n",
      " [1 0 1 1 0 0 1 0]\n",
      " [1 0 1 1 0 0 0 1]\n",
      " [1 0 1 0 1 1 0 0]\n",
      " [1 0 1 0 1 0 1 0]\n",
      " [1 0 1 0 1 0 0 1]\n",
      " [1 0 1 0 0 1 1 0]\n",
      " [1 0 1 0 0 1 0 1]\n",
      " [1 0 1 0 0 0 1 1]\n",
      " [1 0 0 1 1 1 0 0]\n",
      " [1 0 0 1 1 0 1 0]\n",
      " [1 0 0 1 1 0 0 1]\n",
      " [1 0 0 1 0 1 1 0]\n",
      " [1 0 0 1 0 1 0 1]\n",
      " [1 0 0 1 0 0 1 1]\n",
      " [1 0 0 0 1 1 1 0]\n",
      " [1 0 0 0 1 1 0 1]\n",
      " [1 0 0 0 1 0 1 1]\n",
      " [1 0 0 0 0 1 1 1]\n",
      " [0 1 1 1 1 0 0 0]\n",
      " [0 1 1 1 0 1 0 0]\n",
      " [0 1 1 1 0 0 1 0]\n",
      " [0 1 1 1 0 0 0 1]\n",
      " [0 1 1 0 1 1 0 0]\n",
      " [0 1 1 0 1 0 1 0]\n",
      " [0 1 1 0 1 0 0 1]\n",
      " [0 1 1 0 0 1 1 0]\n",
      " [0 1 1 0 0 1 0 1]\n",
      " [0 1 1 0 0 0 1 1]\n",
      " [0 1 0 1 1 1 0 0]\n",
      " [0 1 0 1 1 0 1 0]\n",
      " [0 1 0 1 1 0 0 1]\n",
      " [0 1 0 1 0 1 1 0]\n",
      " [0 1 0 1 0 1 0 1]\n",
      " [0 1 0 1 0 0 1 1]\n",
      " [0 1 0 0 1 1 1 0]\n",
      " [0 1 0 0 1 1 0 1]\n",
      " [0 1 0 0 1 0 1 1]\n",
      " [0 1 0 0 0 1 1 1]\n",
      " [0 0 1 1 1 1 0 0]\n",
      " [0 0 1 1 1 0 1 0]\n",
      " [0 0 1 1 1 0 0 1]\n",
      " [0 0 1 1 0 1 1 0]\n",
      " [0 0 1 1 0 1 0 1]\n",
      " [0 0 1 1 0 0 1 1]\n",
      " [0 0 1 0 1 1 1 0]\n",
      " [0 0 1 0 1 1 0 1]\n",
      " [0 0 1 0 1 0 1 1]\n",
      " [0 0 1 0 0 1 1 1]\n",
      " [0 0 0 1 1 1 1 0]\n",
      " [0 0 0 1 1 1 0 1]\n",
      " [0 0 0 1 1 0 1 1]\n",
      " [0 0 0 1 0 1 1 1]\n",
      " [0 0 0 0 1 1 1 1]]\n"
     ]
    }
   ],
   "source": [
    "nbody_basis = qnb.fermionic.tools.build_nbody_basis( N_MO, N_elec )\n",
    "a_dagger_a = qnb.fermionic.tools.build_operator_a_dagger_a( nbody_basis )\n",
    "\n",
    "print('The many-body basis')\n",
    "print(nbody_basis)"
   ]
  },
  {
   "cell_type": "markdown",
   "id": "acfadd1b",
   "metadata": {
    "slideshow": {
     "slide_type": "slide"
    }
   },
   "source": [
    "## Building our own many-body wavefunction\n",
    "    \n",
    "The package QuantNBody offers the possibility to define our very own many-body wavefunction in an intuitive manner. For this we can use the function \"my_state\" to transform any occupation number state (handwritten in the code) into a referenced state in the many-body basis (i.e. the $| \\kappa \\rangle$ states). \n",
    "\n",
    "As a demonstration, let us imagine that we want to build a simple slater determinant\n",
    "\n",
    "$$| \\Psi \\rangle = |00001111\\rangle$$\n",
    "\n",
    "we show below how do that"
   ]
  },
  {
   "cell_type": "code",
   "execution_count": 3,
   "id": "93adc6c5",
   "metadata": {
    "slideshow": {
     "slide_type": "subslide"
    }
   },
   "outputs": [
    {
     "name": "stdout",
     "output_type": "stream",
     "text": [
      "[0. 0. 0. 0. 0. 0. 0. 0. 0. 0. 0. 0. 0. 0. 0. 0. 0. 0. 0. 0. 0. 0. 0. 0.\n",
      " 0. 0. 0. 0. 0. 0. 0. 0. 0. 0. 0. 0. 0. 0. 0. 0. 0. 0. 0. 0. 0. 0. 0. 0.\n",
      " 0. 0. 0. 0. 0. 0. 0. 0. 0. 0. 0. 0. 0. 0. 0. 0. 0. 0. 0. 0. 0. 1.]\n"
     ]
    }
   ],
   "source": [
    "State_to_translate = [ 0,0,0,0,1,1,1,1]\n",
    "\n",
    "Psi = qnb.fermionic.tools.my_state( State_to_translate, nbody_basis )\n",
    "\n",
    "print( Psi )"
   ]
  },
  {
   "cell_type": "markdown",
   "id": "6ec48f1b",
   "metadata": {},
   "source": [
    "As shown here, printing the state returns a vector of dimension equal to the number of configurations. The last state of the many-body basis is indeed the one we want to encode explaining why we have a coefficient 1 in last position. \n",
    "This is normal as here we translate an occupation number vector to its respective many-body $\\kappa$ state encoded numerically (see the first tutorial).\n",
    "\n",
    "\n",
    "Note that in practice we can create a multi-configurational wavefunction. As an example, let us consider the encoding of \n",
    "\n",
    "$$| \\Psi \\rangle = (|00001111\\rangle + |11110000\\rangle)/\\sqrt{2} $$\n",
    "\n",
    "We show below how to do that"
   ]
  },
  {
   "cell_type": "code",
   "execution_count": 4,
   "id": "ed6eb948",
   "metadata": {
    "scrolled": false
   },
   "outputs": [
    {
     "name": "stdout",
     "output_type": "stream",
     "text": [
      "[0.70710678 0.         0.         0.         0.         0.\n",
      " 0.         0.         0.         0.         0.         0.\n",
      " 0.         0.         0.         0.         0.         0.\n",
      " 0.         0.         0.         0.         0.         0.\n",
      " 0.         0.         0.         0.         0.         0.\n",
      " 0.         0.         0.         0.         0.         0.\n",
      " 0.         0.         0.         0.         0.         0.\n",
      " 0.         0.         0.         0.         0.         0.\n",
      " 0.         0.         0.         0.         0.         0.\n",
      " 0.         0.         0.         0.         0.         0.\n",
      " 0.         0.         0.         0.         0.         0.\n",
      " 0.         0.         0.         0.70710678]\n"
     ]
    }
   ],
   "source": [
    "State_to_translate = [ 0,0,0,0,1,1,1,1]\n",
    "\n",
    "Psi = qnb.fermionic.tools.my_state( State_to_translate, nbody_basis )\n",
    "\n",
    "State_to_translate = [1,1,1,1,0,0,0,0]\n",
    "Psi += qnb.fermionic.tools.my_state( State_to_translate, nbody_basis )\n",
    "\n",
    "Psi = Psi/np.sqrt(2)\n",
    "\n",
    "print( Psi )"
   ]
  },
  {
   "cell_type": "markdown",
   "id": "3b4ff24a",
   "metadata": {},
   "source": [
    "In this second case, we obtain a $\\sqrt{2}$ factor on the first and last positions of the vector which is expected. As a simple check of our implementation, we can also visualize the final wavefunction we have just built using the \"visualize_wft\" function implemented in QuantNBody:"
   ]
  },
  {
   "cell_type": "code",
   "execution_count": 5,
   "id": "bad72a8d",
   "metadata": {},
   "outputs": [
    {
     "name": "stdout",
     "output_type": "stream",
     "text": [
      "\n",
      "\t-----------\n",
      "\t Coeff.      N-body state\n",
      "\t-------     -------------\n",
      "\t+0.70711\t|00001111⟩\n",
      "\t+0.70711\t|11110000⟩\n",
      "\n",
      "\n"
     ]
    }
   ],
   "source": [
    "qnb.fermionic.tools.visualize_wft( Psi, nbody_basis )\n",
    "print()"
   ]
  },
  {
   "cell_type": "markdown",
   "id": "afc212f4",
   "metadata": {},
   "source": [
    "Which returns precisely what we have implemented !"
   ]
  },
  {
   "cell_type": "markdown",
   "id": "9ac43236",
   "metadata": {},
   "source": [
    "## Building filtered lists of many-body states\n",
    "\n",
    "A particularily interesting action we can realize is to filter the many-body basis to only retain states that respect a particular property. As an example, let us imagine that we want to create a list of neutral states with only one electron by molecular orbital at most. We show below one possible way to filter the many-body basis  using the a_dagger_a variable. "
   ]
  },
  {
   "cell_type": "code",
   "execution_count": 6,
   "id": "0ac3e4fe",
   "metadata": {
    "scrolled": true
   },
   "outputs": [
    {
     "name": "stdout",
     "output_type": "stream",
     "text": [
      "\n",
      " List of neutral states obtained \n",
      "[1 0 1 0 1 0 1 0]\n",
      "[1 0 1 0 1 0 0 1]\n",
      "[1 0 1 0 0 1 1 0]\n",
      "[1 0 1 0 0 1 0 1]\n",
      "[1 0 0 1 1 0 1 0]\n",
      "[1 0 0 1 1 0 0 1]\n",
      "[1 0 0 1 0 1 1 0]\n",
      "[1 0 0 1 0 1 0 1]\n",
      "[0 1 1 0 1 0 1 0]\n",
      "[0 1 1 0 1 0 0 1]\n",
      "[0 1 1 0 0 1 1 0]\n",
      "[0 1 1 0 0 1 0 1]\n",
      "[0 1 0 1 1 0 1 0]\n",
      "[0 1 0 1 1 0 0 1]\n",
      "[0 1 0 1 0 1 1 0]\n",
      "[0 1 0 1 0 1 0 1]\n"
     ]
    }
   ],
   "source": [
    "dim_total = len(nbody_basis)\n",
    "\n",
    "Op_filtering = ( a_dagger_a[0, 0] + a_dagger_a[1, 1]  -  scipy.sparse.identity(dim_total) )**2\n",
    "for p in range(1,N_MO): \n",
    "    Op_filtering  +=   (a_dagger_a[2*p, 2*p] + a_dagger_a[2*p+1, 2*p+1] -  scipy.sparse.identity(dim_total) )**2\n",
    "\n",
    "list_index_det_neutral  = np.where( (np.diag( Op_filtering.A ) == 0.)  )[0]\n",
    " \n",
    " \n",
    "print()\n",
    "print(\" List of neutral states obtained \")\n",
    "for index in list_index_det_neutral:\n",
    "    print(nbody_basis[index])"
   ]
  },
  {
   "cell_type": "markdown",
   "id": "f060c261",
   "metadata": {},
   "source": [
    "Similarily we can also search only the doubly occupied state (i.e. seniority zero configurations) which could be done via a small modification of what has been proposed before"
   ]
  },
  {
   "cell_type": "code",
   "execution_count": 7,
   "id": "65ec2e70",
   "metadata": {},
   "outputs": [
    {
     "name": "stdout",
     "output_type": "stream",
     "text": [
      "\n",
      " List of doubly occupied states obtained \n",
      "[1 1 1 1 0 0 0 0]\n",
      "[1 1 0 0 1 1 0 0]\n",
      "[1 1 0 0 0 0 1 1]\n",
      "[0 0 1 1 1 1 0 0]\n",
      "[0 0 1 1 0 0 1 1]\n",
      "[0 0 0 0 1 1 1 1]\n"
     ]
    }
   ],
   "source": [
    "Op_filtering = ( a_dagger_a[0, 0] + a_dagger_a[1, 1]  -  2*scipy.sparse.identity(dim_total) )**2\n",
    "for p in range(1,N_MO): \n",
    "    Op_filtering  +=   (a_dagger_a[2*p, 2*p] + a_dagger_a[2*p+1, 2*p+1] -  2* scipy.sparse.identity(dim_total) )**2\n",
    "\n",
    "list_index_det_neutral  = np.where( (np.diag( Op_filtering.A ) == 8)  )[0]\n",
    " \n",
    " \n",
    "print()\n",
    "print(\" List of doubly occupied states obtained \")\n",
    "for index in list_index_det_neutral:\n",
    "    print(nbody_basis[index])\n",
    "     "
   ]
  },
  {
   "cell_type": "markdown",
   "id": "db9090e5",
   "metadata": {
    "slideshow": {
     "slide_type": "subslide"
    }
   },
   "source": [
    "## Applying excitations to a state   \n",
    "\n",
    "In this final part we show the effect of applying excitations to a reference wavefunction. For this, we will consider implementing a singlet excitation over an initial configuration to produce the final state\n",
    "\n",
    "$$ | \\Psi \\rangle = (a^\\dagger_{3,\\alpha}a_{2,\\alpha} + a^\\dagger_{3,\\beta}a_{2,\\beta})| 11110000\\rangle / \\sqrt{2} $$\n",
    "\n",
    "This is very easy to implement with the QuantNBody package. In this case, as shown below, the second quantization algebra can be very straightforwardly implemented in a few line of python code !"
   ]
  },
  {
   "cell_type": "code",
   "execution_count": 8,
   "id": "82e4b7b7",
   "metadata": {},
   "outputs": [
    {
     "name": "stdout",
     "output_type": "stream",
     "text": [
      "\n",
      "\t-----------\n",
      "\t Coeff.      N-body state\n",
      "\t-------     -------------\n",
      "\t-0.70711\t|11011000⟩\n",
      "\t+0.70711\t|11100100⟩\n",
      "\n",
      "\n"
     ]
    }
   ],
   "source": [
    "# We first translate the occupation number config into the many-body basis of kappa vectors\n",
    "initial_config_occ_number = [ 1, 1, 1, 1, 0, 0, 0, 0 ]\n",
    "initial_config = qnb.fermionic.tools.my_state( initial_config_occ_number, nbody_basis)\n",
    "\n",
    "# Then we build the excitation operator\n",
    "Excitation_op = (a_dagger_a[4,2] + a_dagger_a[5,3]) / np.sqrt(2)\n",
    "\n",
    "# We apply the excitation on the intial state and store it into a Psi WFT\n",
    "Psi = Excitation_op  @ initial_config\n",
    "\n",
    "# We visualize the final wavefunction\n",
    "qnb.fermionic.tools.visualize_wft(Psi,nbody_basis)\n",
    "print()"
   ]
  }
 ],
 "metadata": {
  "author": "mes",
  "celltoolbar": "Diaporama",
  "kernelspec": {
   "display_name": "Python [conda env:myenv]",
   "language": "python",
   "name": "conda-env-myenv-py"
  },
  "language_info": {
   "codemirror_mode": {
    "name": "ipython",
    "version": 3
   },
   "file_extension": ".py",
   "mimetype": "text/x-python",
   "name": "python",
   "nbconvert_exporter": "python",
   "pygments_lexer": "ipython3",
   "version": "3.9.12"
  },
  "latex_envs": {
   "LaTeX_envs_menu_present": true,
   "autoclose": false,
   "autocomplete": false,
   "bibliofile": "biblio.bib",
   "cite_by": "apalike",
   "current_citInitial": 1,
   "eqLabelWithNumbers": true,
   "eqNumInitial": 1,
   "hotkeys": {
    "equation": "meta-e"
   },
   "labels_anchors": true,
   "latex_user_defs": false,
   "report_style_numbering": true,
   "user_envs_cfg": true
  },
  "toc": {
   "base_numbering": 1,
   "nav_menu": {},
   "number_sections": true,
   "sideBar": true,
   "skip_h1_title": true,
   "title_cell": "Table of Contents",
   "title_sidebar": "Contents",
   "toc_cell": false,
   "toc_position": {
    "height": "calc(100% - 180px)",
    "left": "10px",
    "top": "150px",
    "width": "348.438px"
   },
   "toc_section_display": true,
   "toc_window_display": true
  }
 },
 "nbformat": 4,
 "nbformat_minor": 5
}
