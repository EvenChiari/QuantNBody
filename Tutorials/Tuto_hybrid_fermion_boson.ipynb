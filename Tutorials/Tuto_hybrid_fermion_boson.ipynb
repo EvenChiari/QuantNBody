{
 "cells": [
  {
   "cell_type": "markdown",
   "id": "9fbde08e-a610-4c29-9a54-47cfd63c9bb9",
   "metadata": {},
   "source": [
    "# Hybrid Fermion-Boson Systems in QuantNBody "
   ]
  },
  {
   "cell_type": "markdown",
   "id": "264ec6ba-f12c-4141-8a59-5f0a8e5bcc76",
   "metadata": {},
   "source": [
    "Lucie Pepe - - Laboratoire de Chimie Quantique de Strasbourg, France - January 2024 "
   ]
  },
  {
   "cell_type": "markdown",
   "id": "7efbbf6d-8f4d-436b-ab7e-4a10023217dc",
   "metadata": {},
   "source": [
    "Hybrid quantum many-body systems are prevalent in nature and they originate from the intricate interplay between electrons and bosons. These systems manifest, for example, when a molecular systems (or materials) interact with an external environment, incorporating photons and/or phonons. This is the case for exemple in polaritonic quantum chemistry (i.e., quantum electrodynamics), where the electronic structure of a molecule interacts with the photonic field of a cavity. Similarly, in condensed matter physics, the electronic degrees of freedom (or excitonic ones) experience perturbation owing to the presence of a vibrational phononic environment.\n",
    "From a theoretical point of view, the total number of electrons $N_{elec}$ in these systems is  conserved as constant, but this is not the case for the bosonic number $N_{bos}$. "
   ]
  },
  {
   "cell_type": "markdown",
   "id": "cce3e78e-da0c-46bf-b083-21d6a0f0edfd",
   "metadata": {},
   "source": [
    "<img src=\"Intro.png\" width=\"550\"  style=\"margin:auto\" />"
   ]
  },
  {
   "cell_type": "markdown",
   "id": "697ae02c-6ff4-4a72-82d3-3f67752186ff",
   "metadata": {},
   "source": [
    "The QuantNBody package provides all the necessary tools to simulate such hybrid quantum many-body systems.  In the subsequent sections, we will provide a comprehensive, step-by-step breakdown of its functionality. Before starting, let us import the package ;-)"
   ]
  },
  {
   "cell_type": "code",
   "execution_count": 1,
   "id": "86c07f98-faba-421b-b961-276459d6a525",
   "metadata": {},
   "outputs": [],
   "source": [
    "# Import the quantnbody package\n",
    "import quantnbody as qnb\n",
    "import numpy as np"
   ]
  },
  {
   "cell_type": "markdown",
   "id": "1b2ef74f-9304-4f06-9887-3269b2e59054",
   "metadata": {},
   "source": [
    "### Step 1: Building a hybrid many-body basis \n",
    "\n",
    "Hybrid quantum many-body systems can formally be described by a hybrid Hilbert space $\\mathcal{H}_{hyb}$  composed of a set of electron-boson configurations $\\lbrace | \\Phi_{hyb}^\\kappa\\rangle \\rbrace_{\\kappa=1}^{ \\dim(\\mathcal{H}_{hyb})}$ expressed as:\n",
    "$$ | \\Phi_{hyb}^\\kappa \\rangle = | \\Phi_{bos} \\rangle \\otimes | \\Phi_{elec} \\rangle. $$\n",
    "Here, the bosonic configuration $| \\Psi_{bos} \\rangle$ describes how $N_{bos}$ bosons occupy $N_{mode}$ modes, while the electronic configuration $| \\Psi_{elec} \\rangle$ is a Slater determinant describing how $N_{elec}$ electrons occupy  a collection of $2 N_{MO}$ spin-orbitals (i.e. $N_{MO}$ spatial orbitals).  \n",
    "\n",
    "The total number of accessible fermion-boson configurations $\\lbrace | \\Phi_{hyb}^\\kappa\\rangle \\rbrace_{\\kappa=1}^{ \\dim(\\mathcal{H}_{hyb})}$ is given by the dimension of the hybrid Hilbert space:\n",
    "$$\\dim({\\mathcal{H}_{hyb}}) =  \\dim(\\mathcal{H}_{bos}) \\times \\dim(\\mathcal{H}_{elec}), $$\n",
    "with\n",
    "$$\\dim({\\mathcal{H}_{bos}}) = \\sum_{N_{bos}=0}^{N_{bos}^{MAX}}\\binom{N_{bos} + N_{mode} - 1 }{N_{mode}} \\quad\\quad \\text{  AND} \\quad\\quad \\dim({\\mathcal{H}_{elec}}) = \\binom{2N_{MO}}{N_{elec}} . $$\n",
    "\n",
    "- $\\dim({\\mathcal{H}_{bos}})$ describes the dimension of the bosonic Fock-space. It includes all the possible distributions of $N_{bos}$ bosons in $N_{modes}$ modes (with $N_b=0 \\rightarrow N_{b}^{max}$). Note again that this space doesn't preserve the total number of bosons!\n",
    "\n",
    "- $\\dim({\\mathcal{H}_{elec}})$ describes the electronic space counting all the possibilites to distribute $N_{elec}$ in $N_{MO}$ spatial orbitals.\n",
    "\n",
    "\n",
    "\n"
   ]
  },
  {
   "cell_type": "markdown",
   "id": "8b85eb53-9ddb-454b-8552-e6e16dbcda10",
   "metadata": {},
   "source": [
    "**How to create such a many-body basis with QuantNBody ?**\n",
    "\n",
    "The QuantNBody package builds a numerical representation of such a hybrid many-body basis as a list of states describing the repartition of $N_{elec}$ electrons in $2N_{MO}$ spin-orbitals, combined with the repartition of $N_{b}$ bosons in $N_{modes}$ modes. \n",
    "These states are numerically referenced by a list of kappa indices such that :\n",
    "$$\n",
    "\\Big\\lbrace |\\kappa \\rangle \\Big\\rbrace_{\\textstyle \\kappa=1}^{\\textstyle \\dim_{\\mathcal{H}_{bos/elec}}}\n",
    "$$ "
   ]
  },
  {
   "cell_type": "markdown",
   "id": "37729878-a953-41fb-84fe-f7f12f0f31bf",
   "metadata": {},
   "source": [
    "**A little example with $N_{MO}=N_{elec}=2$ and $N_{bos}=N_{modes}=2$ : in this case, we should have 36 many-body states** "
   ]
  },
  {
   "cell_type": "code",
   "execution_count": 2,
   "id": "aa43326d-7119-4f2e-aab0-fddf314ac47c",
   "metadata": {},
   "outputs": [
    {
     "name": "stdout",
     "output_type": "stream",
     "text": [
      "Shape  of the hybrid kappa states\n",
      "| kappa=0 > = [0 0 1 1 0 0]\n",
      "| kappa=1 > = [0 0 1 0 1 0]\n",
      "| kappa=2 > = [0 0 1 0 0 1]\n",
      "| kappa=3 > = [0 0 0 1 1 0]\n",
      "| kappa=4 > = [0 0 0 1 0 1]\n",
      "| kappa=5 > = [0 0 0 0 1 1]\n",
      "| kappa=6 > = [1 0 1 1 0 0]\n",
      "| kappa=7 > = [1 0 1 0 1 0]\n",
      "| kappa=8 > = [1 0 1 0 0 1]\n",
      "| kappa=9 > = [1 0 0 1 1 0]\n",
      "| kappa=10 > = [1 0 0 1 0 1]\n",
      "| kappa=11 > = [1 0 0 0 1 1]\n",
      "| kappa=12 > = [0 1 1 1 0 0]\n",
      "| kappa=13 > = [0 1 1 0 1 0]\n",
      "| kappa=14 > = [0 1 1 0 0 1]\n",
      "| kappa=15 > = [0 1 0 1 1 0]\n",
      "| kappa=16 > = [0 1 0 1 0 1]\n",
      "| kappa=17 > = [0 1 0 0 1 1]\n",
      "| kappa=18 > = [2 0 1 1 0 0]\n",
      "| kappa=19 > = [2 0 1 0 1 0]\n",
      "| kappa=20 > = [2 0 1 0 0 1]\n",
      "| kappa=21 > = [2 0 0 1 1 0]\n",
      "| kappa=22 > = [2 0 0 1 0 1]\n",
      "| kappa=23 > = [2 0 0 0 1 1]\n",
      "| kappa=24 > = [1 1 1 1 0 0]\n",
      "| kappa=25 > = [1 1 1 0 1 0]\n",
      "| kappa=26 > = [1 1 1 0 0 1]\n",
      "| kappa=27 > = [1 1 0 1 1 0]\n",
      "| kappa=28 > = [1 1 0 1 0 1]\n",
      "| kappa=29 > = [1 1 0 0 1 1]\n",
      "| kappa=30 > = [0 2 1 1 0 0]\n",
      "| kappa=31 > = [0 2 1 0 1 0]\n",
      "| kappa=32 > = [0 2 1 0 0 1]\n",
      "| kappa=33 > = [0 2 0 1 1 0]\n",
      "| kappa=34 > = [0 2 0 1 0 1]\n",
      "| kappa=35 > = [0 2 0 0 1 1]\n"
     ]
    }
   ],
   "source": [
    "# ======================================\n",
    "# Define the fermionic system\n",
    "# ======================================\n",
    "N_elec = 2 # number of fermions \n",
    "N_MO   = 2 # number of molecular orbitals \n",
    "\n",
    "# ======================================\n",
    "# Define the bosonic system\n",
    "# ======================================\n",
    "N_b_max = 2 # maximal number of bosons in the whole system \n",
    "N_mode  = 2 # number of bosonic modes \n",
    "list_bosons = range(N_b_max+1) # list of all possible number of bosons that can be distributed in the bosonic modes  \n",
    "\n",
    "# ======================================\n",
    "# Build the hybrid many-body basis\n",
    "# ======================================\n",
    "nbody_basis = qnb.hybrid_fermionic_bosonic.tools.build_nbody_basis(N_mode, list_bosons, N_MO, N_elec) \n",
    "\n",
    "# Print results\n",
    "print('Shape  of the hybrid kappa states')\n",
    "for s in range(len(nbody_basis)):\n",
    "    print('| kappa={} >'.format(s), '=', nbody_basis[s])"
   ]
  },
  {
   "cell_type": "markdown",
   "id": "abf7162e-617d-46a7-bf9e-d4690c43b883",
   "metadata": {},
   "source": [
    "**What is the meaning of these 36 states ?**\n",
    "\n",
    "Here, each list of number string represents an hybrid many-body occupation number state. As an example, let's check the first state for which we have :\n",
    "$$| \\kappa  = 0\\rangle = | \\underbrace{0}_{\\substack{\\textstyle{ 1st }\\\\ \\textstyle{ mode}}}, \\; \\; \\;\\underbrace{0}_{\\substack{\\textstyle{ 2nd}\\\\ \\textstyle{ mode}}},\\;\\underbrace{   \\overbrace{1}^{ \\textstyle  {\\alpha}}, \\; \\; \\;\\overbrace{1}^{ \\textstyle  {\\beta}},}_{\\textstyle 1st \\ MO}\\; \\; \\underbrace{\\overbrace{0}^{ \\textstyle  {\\alpha}}, \\; \\; \\; \\overbrace{0}^{ \\textstyle  {\\beta}}}_{\\textstyle 2nd \\ MO} \\rangle$$\n",
    "\n",
    "Here we choose to structure the occupation numbers as follows: \n",
    "\n",
    "- Bosonic modes are expressed at the beginning of the list of numbers. Each value refers to the number of bosons in the associated bosonic mode.\n",
    "- For the following fermionic part, each couple of terms refer to **a same spatial orbital**, with an alternation of ** $\\alpha$ -** and ** $\\beta$ -spinorbitals**.\n",
    "\n",
    "Considering the 36 states contained in the list, we see that the first set of 6 lines contains all the possible fermionic configurations, for a vacuum bosonic configuration. Then, the next following states describe all possible fermionic configurations, for another bosonic configuration where we consider 1 boson in the two modes, and so on... until all the possible repartitions of the $N_{bos}=0 \\rightarrow N_{bos}^{max}$ bosons in the $ N_{mode}$ modes have been scanned.\n"
   ]
  },
  {
   "cell_type": "markdown",
   "id": "81dea425-1237-4b45-b30c-71e5a9d804cc",
   "metadata": {},
   "source": [
    "### Step 2: About building operators in the hybrid many-body basis"
   ]
  },
  {
   "cell_type": "markdown",
   "id": "b3cd07dd-6902-42c4-b903-231a2761725b",
   "metadata": {},
   "source": [
    "In QuantNbody, to treat hybrid systems two types of many-body operators are considered as elementary bricks:\n",
    "\n",
    "**Fermionic hopping operators $\\hat{a}^\\dagger \\hat{a}$ :** indeed, every operator conserving the total number of fermionic particles can be decomposed as a serie of electronic hopping operators $\\hat{a}^\\dagger \\hat{a} \\otimes \\mathbb{1}_{bos}$ which only act on the fermionic part leave unchanged the bosonic part of the hybrid-states.\n",
    "\n",
    "**Bosonic creation/anihilation $\\hat{b}^\\dagger/\\hat{b}$ :** indeed, every operator not conserving the total number of bosonic particles may be expressed as a series of anihilation (or creation) bosonic operators \n",
    "$\\hat{b} \\otimes \\mathbb{1}_{elec}$ that only act on the bosonic part of the states and leave the fermionic part unchanged.\n",
    " \n",
    "The QuantNbody package provides a matrix representation of these two central operators in the numerical hybrid-many body basis. If we generically call the latter operators by $\\hat{O}$, this means in practice that we create a matrix representation such that\n",
    "\n",
    "$$ \\hat{O} = \\sum_{\\kappa, \\kappa' \n",
    " =1}^{\\dim(\\mathcal{H}_{hyb})}  \\langle \\kappa' | \\hat{O} | \\kappa  \\rangle  \\; | \\kappa'    \\rangle\\langle \\kappa |  $$\n"
   ]
  },
  {
   "cell_type": "markdown",
   "id": "f2daf7bc-1040-476c-9d1c-11bdcd179ca0",
   "metadata": {},
   "source": [
    "### Step 3: Build the fermionic $\\hat{a}^\\dagger \\hat{a}$ operator in the hybrid basis"
   ]
  },
  {
   "cell_type": "markdown",
   "id": "9edefea3-d535-4c28-a458-e95ce44f2390",
   "metadata": {},
   "source": [
    "In the hybrid part of the QuanNBody package, the fermionic operators $\\hat{a}^\\dagger_{p,\\sigma} \\hat{a}_{q,\\tau}$ can be built with a simple command line:"
   ]
  },
  {
   "cell_type": "code",
   "execution_count": 3,
   "id": "a5512e68-cf03-4266-abd6-c1bd3703ef69",
   "metadata": {},
   "outputs": [],
   "source": [
    "a_dagger_a = qnb.hybrid_fermionic_bosonic.tools.build_fermion_operator_a_dagger_a(nbody_basis, N_mode)"
   ]
  },
  {
   "cell_type": "markdown",
   "id": "16727ac4-ac0e-4994-815c-d22473a19fbb",
   "metadata": {},
   "source": [
    "In practice, the way \"a_dagger_a\" will store each operator $\\hat{a}^\\dagger_{p,\\sigma} \\hat{a}_{q,\\tau}$ follows the way we order the spin-orbitals in our many-body states. As an illustrative example, taking the following elements will return the associated many-body operators:\n",
    "\n",
    "<center>  a_dagger_a[0,0]  $\\longrightarrow \\hat{a}^\\dagger_{0,\\alpha} \\hat{a}_{0,\\alpha}$ </center>\n",
    "\n",
    "<center>  a_dagger_a[1,0]  $\\longrightarrow \\hat{a}^\\dagger_{0,\\beta} \\hat{a}_{0,\\alpha}$ </center>\n",
    "\n",
    "<center>  a_dagger_a[10,1]  $\\longrightarrow \\hat{a}^\\dagger_{5,\\alpha} \\hat{a}_{0,\\beta}$ </center>\n"
   ]
  },
  {
   "cell_type": "markdown",
   "id": "f28310d2-4e01-48fa-9ea8-39dd11ca4b1b",
   "metadata": {},
   "source": [
    "**Example of the matrix shape of the hopping operator $\\hat{a}^\\dagger_{0,\\alpha} \\hat{a}_{1,\\alpha}$ :**"
   ]
  },
  {
   "cell_type": "markdown",
   "id": "82351d99-3afe-4ac5-8357-1c909e68849f",
   "metadata": {},
   "source": [
    "If we look at the element a_dagger_a[0,2], we get access to a sparse matrix representation of the fermionic operator $\\hat{a}^\\dagger_{0,\\alpha} \\hat{a}_{1,\\alpha}$ in the hybrid many-body basis which encodes the promotion of 1 electron from the the 2nd spin orbital (second MO, spin up) to the oth spin orbital (first MO, spin up)  of the fermionic sub-system:"
   ]
  },
  {
   "cell_type": "code",
   "execution_count": 4,
   "id": "1281d8c0-af15-49d5-9eca-e4024b7b223f",
   "metadata": {},
   "outputs": [
    {
     "name": "stdout",
     "output_type": "stream",
     "text": [
      "  (0, 3)\t-1.0\n",
      "  (2, 5)\t1.0\n",
      "  (6, 9)\t-1.0\n",
      "  (8, 11)\t1.0\n",
      "  (12, 15)\t-1.0\n",
      "  (14, 17)\t1.0\n",
      "  (18, 21)\t-1.0\n",
      "  (20, 23)\t1.0\n",
      "  (24, 27)\t-1.0\n",
      "  (26, 29)\t1.0\n",
      "  (30, 33)\t-1.0\n",
      "  (32, 35)\t1.0\n"
     ]
    }
   ],
   "source": [
    "print(a_dagger_a[0,2])"
   ]
  },
  {
   "cell_type": "markdown",
   "id": "6b9b87db-881f-4c34-9e38-c8eec44376ed",
   "metadata": {},
   "source": [
    "We observe here that the action of this operator is only possible  between specific  configurations. As an exemple, let us consider the first line that shows a connexion between the $\\kappa$ states $|0  \\rangle  \\leftrightarrow | 3  \\rangle$. These two states are actually given by | kappa=0 > = [0 0 1 1 0 0] and | kappa=3 > = [0 0 0 1 1 0]. Here, we clearly see that the action of the operator is well encoded:\n",
    "\n",
    "- The electron hops between the 0th and the 2nd spin-orbitals.\n",
    "- There is no change in the occupation number of the bosonic modes between these two states.   "
   ]
  },
  {
   "cell_type": "markdown",
   "id": "2b8eb632-608e-46a2-bd5c-12aeb6a16057",
   "metadata": {},
   "source": [
    "### Step 4: Build the bosonic $\\hat{b}$ and $\\hat{b}^\\dagger$ operators in the hybrid basis"
   ]
  },
  {
   "cell_type": "markdown",
   "id": "7b6c65aa-5eee-4cec-b738-83ff41a5bfe1",
   "metadata": {
    "jp-MarkdownHeadingCollapsed": true
   },
   "source": [
    "In the hybrid part of the QuanNBody package, the bosonic anihilation operators $\\hat{b}_p$ can be built with a simple command line:  "
   ]
  },
  {
   "cell_type": "code",
   "execution_count": 5,
   "id": "af75b8f0-c49f-43bb-8aea-4f3db80900c4",
   "metadata": {},
   "outputs": [],
   "source": [
    "# We compute here the b operator\n",
    "b = qnb.hybrid_fermionic_bosonic.tools.build_boson_anihilation_operator_b(nbody_basis,N_mode)"
   ]
  },
  {
   "cell_type": "markdown",
   "id": "27fa148f-3a88-4166-a204-65c9a76247b7",
   "metadata": {
    "jp-MarkdownHeadingCollapsed": true
   },
   "source": [
    "In practice, the way \"b\" will store each operator $\\hat{b}_{p}$ follows the way we order the modes in our many-body states. As an illustrative example, taking the following elements will return the associated many-body operators:\n",
    "\n",
    "<center>  b[p]  $\\longrightarrow \\hat{b}_{p}$ </center>\n",
    "\n",
    "Note that we can easily build the associated creation operator by taking the tranposed version of each element such that\n",
    "<center>  b[p].T  $\\longrightarrow \\hat{b}_{p}^\\dagger$ </center>\n",
    " "
   ]
  },
  {
   "cell_type": "markdown",
   "id": "718477b9-f833-44b7-9811-46685d37a939",
   "metadata": {},
   "source": [
    "**Example of a bosonic anihilation operator $\\hat{b}_0$ :**\n",
    "\n",
    "If we look at the element b[0], we get access to a sparse matrix representation of the bosonic anihilation operator $\\hat{b}_0$ in the hybrid many-body basis which encodes the desctruction of 1 boson in the 0th mode:"
   ]
  },
  {
   "cell_type": "code",
   "execution_count": 6,
   "id": "d4590d33-852a-411c-9667-726394ae3c24",
   "metadata": {},
   "outputs": [
    {
     "name": "stdout",
     "output_type": "stream",
     "text": [
      "  (0, 6)\t1.0\n",
      "  (1, 7)\t1.0\n",
      "  (2, 8)\t1.0\n",
      "  (3, 9)\t1.0\n",
      "  (4, 10)\t1.0\n",
      "  (5, 11)\t1.0\n",
      "  (6, 18)\t1.4142135623730951\n",
      "  (7, 19)\t1.4142135623730951\n",
      "  (8, 20)\t1.4142135623730951\n",
      "  (9, 21)\t1.4142135623730951\n",
      "  (10, 22)\t1.4142135623730951\n",
      "  (11, 23)\t1.4142135623730951\n",
      "  (12, 24)\t1.0\n",
      "  (13, 25)\t1.0\n",
      "  (14, 26)\t1.0\n",
      "  (15, 27)\t1.0\n",
      "  (16, 28)\t1.0\n",
      "  (17, 29)\t1.0\n"
     ]
    }
   ],
   "source": [
    "print(b[0])"
   ]
  },
  {
   "cell_type": "markdown",
   "id": "bba95633-ac73-483e-86ea-3b16905249aa",
   "metadata": {},
   "source": [
    "We observe here that the action of this operator is only possible  between specific  configurations. As an exemple, let us consider the first element that shows a connexion between the $\\kappa$ states $|0  \\rangle  \\leftrightarrow | 6  \\rangle$. These two states are actually given by | kappa=0 > = [0 0 1 1 0 0] and | kappa=6 > = [1 0 1 1 0 0]. Here, we clearly see that the action of the operator is well encoded:\n",
    "\n",
    "- The two states are related by the creation/anhihilation of one boson in the 0th mode.\n",
    "- There is no change in the fermionic occupation numbers of the spin-orbitals between the two states."
   ]
  },
  {
   "cell_type": "markdown",
   "id": "051acefd-4143-4266-b490-6585a4e18317",
   "metadata": {},
   "source": [
    "**Last exemple with a counting $\\hat{b}_1^\\dagger\\hat{b}_1$ operator:**"
   ]
  },
  {
   "cell_type": "markdown",
   "id": "7d844f9a-e05c-4c38-ba8d-8d3bbdf9adb6",
   "metadata": {},
   "source": [
    "Once all the $\\hat{b}_p$ are built, one can use these operators as building blocks for a wide possibilty of operators such as the $\\hat{n}_p = \\hat{b}^\\dagger_p \\hat{b}_p$ counting one. As an exemple, let's count the number of bosons in the second mode of the following state we want to target\n",
    "$$   | \\Phi_{bos} \\rangle \\otimes | \\Phi_{elec} \\rangle = |02\\rangle \\otimes |1100 \\rangle$$\n",
    "\n",
    "QuantNBody provides a way to build our own state from a given occupation number list as follows"
   ]
  },
  {
   "cell_type": "code",
   "execution_count": 7,
   "id": "4895efb9-0498-4b07-802e-de38bd7e01d9",
   "metadata": {},
   "outputs": [
    {
     "name": "stdout",
     "output_type": "stream",
     "text": [
      "Initial state :\n",
      "\n",
      "\t-----------\n",
      "\t Coeff.     N-body state and index \n",
      "\t-------     ----------------------\n",
      "\t+1.00000   |02⟩ ⊗ |1100⟩    #30 \n",
      "\n",
      "\n"
     ]
    }
   ],
   "source": [
    "# 1) Define the occupation number list of bosonic modes and fermionic spin-orbitals\n",
    "LIST_OCC_NUMB = [0,2,1,1,0,0]\n",
    "\n",
    "# 2) Obtain the qnb traduction in the hybrid many-body basis   \n",
    "my_many_body_state =  qnb.hybrid_fermionic_bosonic.tools.my_state(LIST_OCC_NUMB, nbody_basis)\n",
    "\n",
    "# 2) Visualize the associated wavefunction \n",
    "print( 'Initial state :')\n",
    "qnb.hybrid_fermionic_bosonic.tools.visualize_wft(my_many_body_state,\n",
    "                                                 nbody_basis, \n",
    "                                                 N_mode )\n",
    "print()"
   ]
  },
  {
   "cell_type": "markdown",
   "id": "1892faeb-8abc-42a7-8af5-33035773c8a1",
   "metadata": {},
   "source": [
    "Let us now count the number of bosons in this state as follows:"
   ]
  },
  {
   "cell_type": "code",
   "execution_count": 8,
   "id": "b1474b57-5722-4b93-836c-2c5728fed751",
   "metadata": {},
   "outputs": [
    {
     "name": "stdout",
     "output_type": "stream",
     "text": [
      "Total number of boson in the targeted state\n",
      " 2.0000000000000004\n"
     ]
    }
   ],
   "source": [
    "n_1 = b[1].T@b[1]\n",
    "print(\"Total number of boson in the targeted state\\n\", my_many_body_state.T @ n_1 @ my_many_body_state )"
   ]
  }
 ],
 "metadata": {
  "kernelspec": {
   "display_name": "Python 3 (ipykernel)",
   "language": "python",
   "name": "python3"
  },
  "language_info": {
   "codemirror_mode": {
    "name": "ipython",
    "version": 3
   },
   "file_extension": ".py",
   "mimetype": "text/x-python",
   "name": "python",
   "nbconvert_exporter": "python",
   "pygments_lexer": "ipython3",
   "version": "3.10.13"
  }
 },
 "nbformat": 4,
 "nbformat_minor": 5
}
